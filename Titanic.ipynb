{
 "cells": [
  {
   "cell_type": "code",
   "execution_count": 1,
   "metadata": {},
   "outputs": [],
   "source": [
    "# Taken from: https://www.kaggle.com/headsortails/pytanic\n",
    "\n",
    "# Import the modules\n",
    "\n",
    "import pandas as pd\n",
    "import numpy as np\n",
    "from scipy import stats\n",
    "import sklearn as sk\n",
    "import itertools\n",
    "import matplotlib.pyplot as plt\n",
    "import matplotlib.gridspec as gridspec\n",
    "import seaborn as sns\n",
    "from statsmodels.graphics.mosaicplot import mosaic\n",
    "import warnings \n",
    "warnings.filterwarnings('ignore')\n",
    "%matplotlib inline\n",
    "\n",
    "from sklearn.linear_model import LogisticRegression\n",
    "from sklearn.linear_model import Perceptron\n",
    "from sklearn import tree\n",
    "from sklearn.neighbors import KNeighborsClassifier\n",
    "from sklearn.ensemble import RandomForestClassifier\n",
    "from sklearn.ensemble import ExtraTreesClassifier\n",
    "from sklearn.ensemble import BaggingClassifier\n",
    "from sklearn.ensemble import AdaBoostClassifier\n",
    "from sklearn.ensemble import GradientBoostingClassifier\n",
    "from sklearn.ensemble import VotingClassifier\n",
    "from sklearn import svm\n",
    "#import xgboost as xgb\n",
    "#from mlxtend.classifier import StackingClassifier #need to install manually\n",
    "\n",
    "from sklearn.model_selection import cross_val_score\n",
    "from sklearn.model_selection import KFold\n",
    "from sklearn.metrics import confusion_matrix\n",
    "from sklearn.model_selection import train_test_split # why? the data is already split into test and train\n",
    "from sklearn.model_selection import GridSearchCV\n",
    "\n",
    "sns.set(style='white', context='notebook', palette='deep') #maybe undo style\n",
    "\n",
    "#in addition, add modules from iris\n",
    "from sklearn import metrics\n",
    "from sklearn.tree import DecisionTreeClassifier\n"
   ]
  },
  {
   "cell_type": "code",
   "execution_count": 2,
   "metadata": {},
   "outputs": [],
   "source": [
    "#Load the data and combine in order to explore a larger dataset. Drop 'survive' as it's not contained in test\n",
    "train = pd.read_csv('C:/Users/akosciansky/Desktop/Kaggle/Titanic/train (2).csv')\n",
    "test = pd.read_csv('C:/Users/akosciansky/Desktop/Kaggle/Titanic/test (1).csv')\n",
    "combine = pd.concat([train.drop('Survived', 1), test])"
   ]
  },
  {
   "cell_type": "code",
   "execution_count": 3,
   "metadata": {},
   "outputs": [
    {
     "data": {
      "text/html": [
       "<div>\n",
       "<style scoped>\n",
       "    .dataframe tbody tr th:only-of-type {\n",
       "        vertical-align: middle;\n",
       "    }\n",
       "\n",
       "    .dataframe tbody tr th {\n",
       "        vertical-align: top;\n",
       "    }\n",
       "\n",
       "    .dataframe thead th {\n",
       "        text-align: right;\n",
       "    }\n",
       "</style>\n",
       "<table border=\"1\" class=\"dataframe\">\n",
       "  <thead>\n",
       "    <tr style=\"text-align: right;\">\n",
       "      <th></th>\n",
       "      <th>PassengerId</th>\n",
       "      <th>Survived</th>\n",
       "      <th>Pclass</th>\n",
       "      <th>Name</th>\n",
       "      <th>Sex</th>\n",
       "      <th>Age</th>\n",
       "      <th>SibSp</th>\n",
       "      <th>Parch</th>\n",
       "      <th>Ticket</th>\n",
       "      <th>Fare</th>\n",
       "      <th>Cabin</th>\n",
       "      <th>Embarked</th>\n",
       "    </tr>\n",
       "  </thead>\n",
       "  <tbody>\n",
       "    <tr>\n",
       "      <th>0</th>\n",
       "      <td>1</td>\n",
       "      <td>0</td>\n",
       "      <td>3</td>\n",
       "      <td>Braund, Mr. Owen Harris</td>\n",
       "      <td>male</td>\n",
       "      <td>22.0</td>\n",
       "      <td>1</td>\n",
       "      <td>0</td>\n",
       "      <td>A/5 21171</td>\n",
       "      <td>7.2500</td>\n",
       "      <td>NaN</td>\n",
       "      <td>S</td>\n",
       "    </tr>\n",
       "    <tr>\n",
       "      <th>1</th>\n",
       "      <td>2</td>\n",
       "      <td>1</td>\n",
       "      <td>1</td>\n",
       "      <td>Cumings, Mrs. John Bradley (Florence Briggs Th...</td>\n",
       "      <td>female</td>\n",
       "      <td>38.0</td>\n",
       "      <td>1</td>\n",
       "      <td>0</td>\n",
       "      <td>PC 17599</td>\n",
       "      <td>71.2833</td>\n",
       "      <td>C85</td>\n",
       "      <td>C</td>\n",
       "    </tr>\n",
       "    <tr>\n",
       "      <th>2</th>\n",
       "      <td>3</td>\n",
       "      <td>1</td>\n",
       "      <td>3</td>\n",
       "      <td>Heikkinen, Miss. Laina</td>\n",
       "      <td>female</td>\n",
       "      <td>26.0</td>\n",
       "      <td>0</td>\n",
       "      <td>0</td>\n",
       "      <td>STON/O2. 3101282</td>\n",
       "      <td>7.9250</td>\n",
       "      <td>NaN</td>\n",
       "      <td>S</td>\n",
       "    </tr>\n",
       "    <tr>\n",
       "      <th>3</th>\n",
       "      <td>4</td>\n",
       "      <td>1</td>\n",
       "      <td>1</td>\n",
       "      <td>Futrelle, Mrs. Jacques Heath (Lily May Peel)</td>\n",
       "      <td>female</td>\n",
       "      <td>35.0</td>\n",
       "      <td>1</td>\n",
       "      <td>0</td>\n",
       "      <td>113803</td>\n",
       "      <td>53.1000</td>\n",
       "      <td>C123</td>\n",
       "      <td>S</td>\n",
       "    </tr>\n",
       "    <tr>\n",
       "      <th>4</th>\n",
       "      <td>5</td>\n",
       "      <td>0</td>\n",
       "      <td>3</td>\n",
       "      <td>Allen, Mr. William Henry</td>\n",
       "      <td>male</td>\n",
       "      <td>35.0</td>\n",
       "      <td>0</td>\n",
       "      <td>0</td>\n",
       "      <td>373450</td>\n",
       "      <td>8.0500</td>\n",
       "      <td>NaN</td>\n",
       "      <td>S</td>\n",
       "    </tr>\n",
       "  </tbody>\n",
       "</table>\n",
       "</div>"
      ],
      "text/plain": [
       "   PassengerId  Survived  Pclass  \\\n",
       "0            1         0       3   \n",
       "1            2         1       1   \n",
       "2            3         1       3   \n",
       "3            4         1       1   \n",
       "4            5         0       3   \n",
       "\n",
       "                                                Name     Sex   Age  SibSp  \\\n",
       "0                            Braund, Mr. Owen Harris    male  22.0      1   \n",
       "1  Cumings, Mrs. John Bradley (Florence Briggs Th...  female  38.0      1   \n",
       "2                             Heikkinen, Miss. Laina  female  26.0      0   \n",
       "3       Futrelle, Mrs. Jacques Heath (Lily May Peel)  female  35.0      1   \n",
       "4                           Allen, Mr. William Henry    male  35.0      0   \n",
       "\n",
       "   Parch            Ticket     Fare Cabin Embarked  \n",
       "0      0         A/5 21171   7.2500   NaN        S  \n",
       "1      0          PC 17599  71.2833   C85        C  \n",
       "2      0  STON/O2. 3101282   7.9250   NaN        S  \n",
       "3      0            113803  53.1000  C123        S  \n",
       "4      0            373450   8.0500   NaN        S  "
      ]
     },
     "execution_count": 3,
     "metadata": {},
     "output_type": "execute_result"
    }
   ],
   "source": [
    "train.head()"
   ]
  },
  {
   "cell_type": "code",
   "execution_count": 4,
   "metadata": {},
   "outputs": [
    {
     "data": {
      "text/html": [
       "<div>\n",
       "<style scoped>\n",
       "    .dataframe tbody tr th:only-of-type {\n",
       "        vertical-align: middle;\n",
       "    }\n",
       "\n",
       "    .dataframe tbody tr th {\n",
       "        vertical-align: top;\n",
       "    }\n",
       "\n",
       "    .dataframe thead th {\n",
       "        text-align: right;\n",
       "    }\n",
       "</style>\n",
       "<table border=\"1\" class=\"dataframe\">\n",
       "  <thead>\n",
       "    <tr style=\"text-align: right;\">\n",
       "      <th></th>\n",
       "      <th>PassengerId</th>\n",
       "      <th>Survived</th>\n",
       "      <th>Pclass</th>\n",
       "      <th>Age</th>\n",
       "      <th>SibSp</th>\n",
       "      <th>Parch</th>\n",
       "      <th>Fare</th>\n",
       "    </tr>\n",
       "  </thead>\n",
       "  <tbody>\n",
       "    <tr>\n",
       "      <th>count</th>\n",
       "      <td>891.000000</td>\n",
       "      <td>891.000000</td>\n",
       "      <td>891.000000</td>\n",
       "      <td>714.000000</td>\n",
       "      <td>891.000000</td>\n",
       "      <td>891.000000</td>\n",
       "      <td>891.000000</td>\n",
       "    </tr>\n",
       "    <tr>\n",
       "      <th>mean</th>\n",
       "      <td>446.000000</td>\n",
       "      <td>0.383838</td>\n",
       "      <td>2.308642</td>\n",
       "      <td>29.699118</td>\n",
       "      <td>0.523008</td>\n",
       "      <td>0.381594</td>\n",
       "      <td>32.204208</td>\n",
       "    </tr>\n",
       "    <tr>\n",
       "      <th>std</th>\n",
       "      <td>257.353842</td>\n",
       "      <td>0.486592</td>\n",
       "      <td>0.836071</td>\n",
       "      <td>14.526497</td>\n",
       "      <td>1.102743</td>\n",
       "      <td>0.806057</td>\n",
       "      <td>49.693429</td>\n",
       "    </tr>\n",
       "    <tr>\n",
       "      <th>min</th>\n",
       "      <td>1.000000</td>\n",
       "      <td>0.000000</td>\n",
       "      <td>1.000000</td>\n",
       "      <td>0.420000</td>\n",
       "      <td>0.000000</td>\n",
       "      <td>0.000000</td>\n",
       "      <td>0.000000</td>\n",
       "    </tr>\n",
       "    <tr>\n",
       "      <th>25%</th>\n",
       "      <td>223.500000</td>\n",
       "      <td>0.000000</td>\n",
       "      <td>2.000000</td>\n",
       "      <td>20.125000</td>\n",
       "      <td>0.000000</td>\n",
       "      <td>0.000000</td>\n",
       "      <td>7.910400</td>\n",
       "    </tr>\n",
       "    <tr>\n",
       "      <th>50%</th>\n",
       "      <td>446.000000</td>\n",
       "      <td>0.000000</td>\n",
       "      <td>3.000000</td>\n",
       "      <td>28.000000</td>\n",
       "      <td>0.000000</td>\n",
       "      <td>0.000000</td>\n",
       "      <td>14.454200</td>\n",
       "    </tr>\n",
       "    <tr>\n",
       "      <th>75%</th>\n",
       "      <td>668.500000</td>\n",
       "      <td>1.000000</td>\n",
       "      <td>3.000000</td>\n",
       "      <td>38.000000</td>\n",
       "      <td>1.000000</td>\n",
       "      <td>0.000000</td>\n",
       "      <td>31.000000</td>\n",
       "    </tr>\n",
       "    <tr>\n",
       "      <th>max</th>\n",
       "      <td>891.000000</td>\n",
       "      <td>1.000000</td>\n",
       "      <td>3.000000</td>\n",
       "      <td>80.000000</td>\n",
       "      <td>8.000000</td>\n",
       "      <td>6.000000</td>\n",
       "      <td>512.329200</td>\n",
       "    </tr>\n",
       "  </tbody>\n",
       "</table>\n",
       "</div>"
      ],
      "text/plain": [
       "       PassengerId    Survived      Pclass         Age       SibSp  \\\n",
       "count   891.000000  891.000000  891.000000  714.000000  891.000000   \n",
       "mean    446.000000    0.383838    2.308642   29.699118    0.523008   \n",
       "std     257.353842    0.486592    0.836071   14.526497    1.102743   \n",
       "min       1.000000    0.000000    1.000000    0.420000    0.000000   \n",
       "25%     223.500000    0.000000    2.000000   20.125000    0.000000   \n",
       "50%     446.000000    0.000000    3.000000   28.000000    0.000000   \n",
       "75%     668.500000    1.000000    3.000000   38.000000    1.000000   \n",
       "max     891.000000    1.000000    3.000000   80.000000    8.000000   \n",
       "\n",
       "            Parch        Fare  \n",
       "count  891.000000  891.000000  \n",
       "mean     0.381594   32.204208  \n",
       "std      0.806057   49.693429  \n",
       "min      0.000000    0.000000  \n",
       "25%      0.000000    7.910400  \n",
       "50%      0.000000   14.454200  \n",
       "75%      0.000000   31.000000  \n",
       "max      6.000000  512.329200  "
      ]
     },
     "execution_count": 4,
     "metadata": {},
     "output_type": "execute_result"
    }
   ],
   "source": [
    "train.describe()"
   ]
  },
  {
   "cell_type": "code",
   "execution_count": 5,
   "metadata": {},
   "outputs": [
    {
     "name": "stdout",
     "output_type": "stream",
     "text": [
      "PassengerId      0\n",
      "Survived         0\n",
      "Pclass           0\n",
      "Name             0\n",
      "Sex              0\n",
      "Age            177\n",
      "SibSp            0\n",
      "Parch            0\n",
      "Ticket           0\n",
      "Fare             0\n",
      "Cabin          687\n",
      "Embarked         2\n",
      "dtype: int64\n"
     ]
    }
   ],
   "source": [
    "#Missing values of train\n",
    "print(train.isnull().sum())"
   ]
  },
  {
   "cell_type": "code",
   "execution_count": 6,
   "metadata": {},
   "outputs": [
    {
     "name": "stdout",
     "output_type": "stream",
     "text": [
      "PassengerId      0\n",
      "Pclass           0\n",
      "Name             0\n",
      "Sex              0\n",
      "Age             86\n",
      "SibSp            0\n",
      "Parch            0\n",
      "Ticket           0\n",
      "Fare             1\n",
      "Cabin          327\n",
      "Embarked         0\n",
      "dtype: int64\n"
     ]
    }
   ],
   "source": [
    "#Missing values of test\n",
    "print(test.isnull().sum())"
   ]
  },
  {
   "cell_type": "code",
   "execution_count": 7,
   "metadata": {},
   "outputs": [
    {
     "name": "stdout",
     "output_type": "stream",
     "text": [
      "Survived: 342 (38.4 percent), Not survived: 549 (61.6 percent), Total: 891\n"
     ]
    }
   ],
   "source": [
    "#Calculate the baseline prediction accuracy\n",
    "#colour code survival\n",
    "surv = train[train['Survived']==1]\n",
    "nosurv = train[train['Survived']==0]\n",
    "surv_col = 'blue'\n",
    "nosurv_col = 'red'\n",
    "\n",
    "print('Survived: %i (%.1f percent), Not survived: %i (%.1f percent), Total: %i'\\\n",
    "     %(len(surv), 1.*len(surv)/len(train)*100.0,\\\n",
    "      len(nosurv), 1.*len(nosurv)/len(train)*100.0, len(train)))"
   ]
  },
  {
   "cell_type": "code",
   "execution_count": 8,
   "metadata": {},
   "outputs": [
    {
     "name": "stdout",
     "output_type": "stream",
     "text": [
      "Median age survivors: 28.0, Median age non-survivors: 28.0\n"
     ]
    },
    {
     "data": {
      "image/png": "[encoded data removed]",
      "text/plain": [
       "<matplotlib.figure.Figure at 0xb47c41d550>"
      ]
     },
     "metadata": {},
     "output_type": "display_data"
    }
   ],
   "source": [
    "#plot the variables against their survival rates\n",
    "warnings.filterwarnings('ignore')\n",
    "plt.figure(figsize=[12,10])\n",
    "plt.subplot(331)\n",
    "sns.kdeplot(surv['Age'].dropna().values, color=surv_col)\n",
    "sns.kdeplot(nosurv['Age'].dropna().values, color=nosurv_col)\n",
    "plt.subplot(332)\n",
    "sns.barplot('Sex', 'Survived', data=train)\n",
    "plt.subplot(333)\n",
    "sns.barplot('Pclass', 'Survived', data=train)\n",
    "plt.subplot(334)\n",
    "sns.barplot('Embarked', 'Survived', data=train)\n",
    "plt.subplot(335)\n",
    "sns.barplot('SibSp', 'Survived', data=train)\n",
    "plt.subplot(336)\n",
    "sns.barplot('Parch', 'Survived', data=train)\n",
    "plt.subplot(337)\n",
    "sns.kdeplot(np.log10(surv['Fare'].dropna().values+1), color=surv_col)\n",
    "sns.kdeplot(np.log10(nosurv['Fare'].dropna().values+1), color=nosurv_col)\n",
    "plt.subplots_adjust(top=0.92, bottom=0.08, left=0.10, right=0.95, hspace=0.25, wspace=0.35)\n",
    "\n",
    "print('Median age survivors: %.1f, Median age non-survivors: %.1f'\\\n",
    "     %(np.median(surv['Age'].dropna()), np.median(nosurv['Age'].dropna())))"
   ]
  },
  {
   "cell_type": "code",
   "execution_count": 9,
   "metadata": {},
   "outputs": [
    {
     "name": "stdout",
     "output_type": "stream",
     "text": [
      "Survived    0    1\n",
      "SibSp             \n",
      "0         398  210\n",
      "1          97  112\n",
      "2          15   13\n",
      "3          12    4\n",
      "4          15    3\n",
      "5           5    0\n",
      "8           7    0\n"
     ]
    }
   ],
   "source": [
    "#The error rates within SibSp and Parch overlap. so let's test whether it really makes a difference with how many people you travel\n",
    "tab = pd.crosstab(train['SibSp'], train['Survived'])\n",
    "print(tab)"
   ]
  },
  {
   "cell_type": "code",
   "execution_count": 10,
   "metadata": {},
   "outputs": [
    {
     "name": "stdout",
     "output_type": "stream",
     "text": [
      "Avg Survival rate: 38pc\n",
      "0: 34pc - p-value: 0.08\n",
      "1: 53pc - p-value: 0.00\n",
      "2: 46pc - p-value: 0.44\n",
      "3: 25pc - p-value: 0.44\n",
      "4: 16pc - p-value: 0.09\n",
      "5: 0pc - p-value: 0.16\n",
      "8: 0pc - p-value: 0.05\n"
     ]
    }
   ],
   "source": [
    "#Let's estimate whether the survival rates are statistically significant\n",
    "#x = no. of non-survivors\n",
    "#n = total no. of passenger in that category\n",
    "#p= non-survival rate; calculated further up\n",
    "\n",
    "print('Avg Survival rate: 38pc')\n",
    "print('0: %ipc - p-value: %.2f' %(210/(210+398)*100, stats.binom_test(x=398, n=608, p=0.62)))\n",
    "print('1: %ipc - p-value: %.2f' %(112/(112+97)*100, stats.binom_test(x=97, n=209, p=0.62)))\n",
    "print('2: %ipc - p-value: %.2f' %(13/(13+15)*100, stats.binom_test(x=15, n=28, p=0.62)))\n",
    "print('3: %ipc - p-value: %.2f' %(4/(4+12)*100, stats.binom_test(x=12, n=16, p=0.62)))\n",
    "print('4: %ipc - p-value: %.2f' %(3/(3+15)*100, stats.binom_test(x=15, n=18, p=0.62)))\n",
    "print('5: %ipc - p-value: %.2f' %(0, stats.binom_test(x=5, n=5, p=0.62)))\n",
    "print('8: %ipc - p-value: %.2f' %(0, stats.binom_test(x=7, n=7, p=0.62)))"
   ]
  },
  {
   "cell_type": "code",
   "execution_count": 11,
   "metadata": {},
   "outputs": [
    {
     "name": "stdout",
     "output_type": "stream",
     "text": [
      "Survived    0    1\n",
      "Parch             \n",
      "0         445  233\n",
      "1          53   65\n",
      "2          40   40\n",
      "3           2    3\n",
      "4           4    0\n",
      "5           4    1\n",
      "6           1    0\n"
     ]
    }
   ],
   "source": [
    "#The error rates within SibSp and Parch overlap. so let's test whether it really makes a difference with how many people you travel\n",
    "tab = pd.crosstab(train['Parch'], train['Survived'])\n",
    "print(tab)"
   ]
  },
  {
   "cell_type": "code",
   "execution_count": 12,
   "metadata": {},
   "outputs": [
    {
     "name": "stdout",
     "output_type": "stream",
     "text": [
      "Avg Survival rate: 38pc\n",
      "0: 34pc - p-value: 0.00\n",
      "1: 55pc - p-value: 0.13\n",
      "2: 50pc - p-value: 0.03\n",
      "3: 60pc - p-value: 1.00\n",
      "4: 0pc - p-value: 0.02\n",
      "5: 16pc - p-value: 0.07\n",
      "6: 0pc - p-value: 0.38\n"
     ]
    }
   ],
   "source": [
    "print('Avg Survival rate: 38pc')\n",
    "print('0: %ipc - p-value: %.2f' %(233/(233+445)*100, stats.binom_test(x=233, n=(233+445), p=0.62)))\n",
    "print('1: %ipc - p-value: %.2f' %(65/(65+53)*100, stats.binom_test(x=65, n=(65+53), p=0.62)))\n",
    "print('2: %ipc - p-value: %.2f' %(40/(40+40)*100, stats.binom_test(x=40, n=(40+40), p=0.62)))\n",
    "print('3: %ipc - p-value: %.2f' %(3/(3+2)*100, stats.binom_test(x=3, n=(3+2), p=0.62)))\n",
    "print('4: %ipc - p-value: %.2f' %(0*100, stats.binom_test(x=0, n=4, p=0.62)))\n",
    "print('5: %ipc - p-value: %.2f' %(1/(1+5)*100, stats.binom_test(x=1, n=5, p=0.62)))\n",
    "print('6: %ipc - p-value: %.2f' %(0*100, stats.binom_test(x=0, n=1, p=0.62)))"
   ]
  },
  {
   "cell_type": "code",
   "execution_count": 13,
   "metadata": {},
   "outputs": [
    {
     "data": {
      "text/html": [
       "<div>\n",
       "<style scoped>\n",
       "    .dataframe tbody tr th:only-of-type {\n",
       "        vertical-align: middle;\n",
       "    }\n",
       "\n",
       "    .dataframe tbody tr th {\n",
       "        vertical-align: top;\n",
       "    }\n",
       "\n",
       "    .dataframe thead th {\n",
       "        text-align: right;\n",
       "    }\n",
       "</style>\n",
       "<table border=\"1\" class=\"dataframe\">\n",
       "  <thead>\n",
       "    <tr style=\"text-align: right;\">\n",
       "      <th></th>\n",
       "      <th>Cabin</th>\n",
       "    </tr>\n",
       "  </thead>\n",
       "  <tbody>\n",
       "    <tr>\n",
       "      <th>1</th>\n",
       "      <td>C85</td>\n",
       "    </tr>\n",
       "    <tr>\n",
       "      <th>3</th>\n",
       "      <td>C123</td>\n",
       "    </tr>\n",
       "    <tr>\n",
       "      <th>6</th>\n",
       "      <td>E46</td>\n",
       "    </tr>\n",
       "    <tr>\n",
       "      <th>10</th>\n",
       "      <td>G6</td>\n",
       "    </tr>\n",
       "    <tr>\n",
       "      <th>11</th>\n",
       "      <td>C103</td>\n",
       "    </tr>\n",
       "    <tr>\n",
       "      <th>21</th>\n",
       "      <td>D56</td>\n",
       "    </tr>\n",
       "    <tr>\n",
       "      <th>23</th>\n",
       "      <td>A6</td>\n",
       "    </tr>\n",
       "    <tr>\n",
       "      <th>27</th>\n",
       "      <td>C23 C25 C27</td>\n",
       "    </tr>\n",
       "    <tr>\n",
       "      <th>31</th>\n",
       "      <td>B78</td>\n",
       "    </tr>\n",
       "    <tr>\n",
       "      <th>52</th>\n",
       "      <td>D33</td>\n",
       "    </tr>\n",
       "  </tbody>\n",
       "</table>\n",
       "</div>"
      ],
      "text/plain": [
       "          Cabin\n",
       "1           C85\n",
       "3          C123\n",
       "6           E46\n",
       "10           G6\n",
       "11         C103\n",
       "21          D56\n",
       "23           A6\n",
       "27  C23 C25 C27\n",
       "31          B78\n",
       "52          D33"
      ]
     },
     "execution_count": 13,
     "metadata": {},
     "output_type": "execute_result"
    }
   ],
   "source": [
    "#Cabin numbers\n",
    "train.loc[:, ['Cabin']].dropna().head(10)"
   ]
  },
  {
   "cell_type": "code",
   "execution_count": 14,
   "metadata": {},
   "outputs": [
    {
     "data": {
      "text/plain": [
       "array(['C', 'E', 'G', 'D', 'A', 'B', 'F', 'T'], dtype=object)"
      ]
     },
     "execution_count": 14,
     "metadata": {},
     "output_type": "execute_result"
    }
   ],
   "source": [
    "#Unique values of cabin letters \n",
    "train['Cabin'].dropna().str[:1].unique()\n",
    "\n",
    "#Can I count the number of cabins for each letter? \n",
    "#What's up with multiple cabins per person? did family members live in there?"
   ]
  },
  {
   "cell_type": "code",
   "execution_count": 15,
   "metadata": {},
   "outputs": [
    {
     "name": "stdout",
     "output_type": "stream",
     "text": [
      "Unique tickets: 681\n",
      "Total tickets: 891\n"
     ]
    }
   ],
   "source": [
    "#Ticket numbers\n",
    "print('Unique tickets: %i' %(train['Ticket'].nunique())) #nunique() required because unique() creates a numpy.ndarray rather than a number\n",
    "print('Total tickets: %i' %(train['Ticket'].count()))"
   ]
  },
  {
   "cell_type": "code",
   "execution_count": 16,
   "metadata": {},
   "outputs": [
    {
     "name": "stdout",
     "output_type": "stream",
     "text": [
      "     Survived                                               Name  Fare\n",
      "257         1                               Cherry, Miss. Gladys  86.5\n",
      "504         1                              Maioni, Miss. Roberta  86.5\n",
      "759         1  Rothes, the Countess. of (Lucy Noel Martha Dye...  86.5\n",
      "     Survived                                    Name   Fare\n",
      "262         0                       Taussig, Mr. Emil  79.65\n",
      "558         1  Taussig, Mrs. Emil (Tillie Mandelbaum)  79.65\n",
      "585         1                     Taussig, Miss. Ruth  79.65\n",
      "     Survived                            Name  Fare\n",
      "110         0  Porter, Mr. Walter Chamberlain  52.0\n",
      "475         0     Clifford, Mr. George Quincy  52.0\n",
      "     Survived                                             Name     Fare\n",
      "329         1                     Hippach, Miss. Jean Gertrude  57.9792\n",
      "523         1  Hippach, Mrs. Louis Albert (Ida Sophia Fischer)  57.9792\n",
      "     Survived                                    Name  Fare\n",
      "166         1  Chibnall, Mrs. (Edith Martha Bowerman)  55.0\n",
      "356         1             Bowerman, Miss. Elsie Edith  55.0\n",
      "     Survived                                       Name  Fare\n",
      "61          1                        Icard, Miss. Amelie  80.0\n",
      "829         1  Stone, Mrs. George Nelson (Martha Evelyn)  80.0\n",
      "     Survived                                       Name   Fare\n",
      "390         1                 Carter, Mr. William Ernest  120.0\n",
      "435         1                  Carter, Miss. Lucile Polk  120.0\n",
      "763         1  Carter, Mrs. William Ernest (Lucile Polk)  120.0\n",
      "802         1        Carter, Master. William Thornton II  120.0\n",
      "     Survived                               Name  Fare\n",
      "151         1  Pears, Mrs. Thomas (Edith Wearne)  66.6\n",
      "336         0          Pears, Mr. Thomas Clinton  66.6\n",
      "     Survived                                             Name    Fare\n",
      "297         0                     Allison, Miss. Helen Loraine  151.55\n",
      "305         1                   Allison, Master. Hudson Trevor  151.55\n",
      "498         0  Allison, Mrs. Hudson J C (Bessie Waldo Daniels)  151.55\n",
      "708         1                             Cleaver, Miss. Alice  151.55\n",
      "     Survived                                               Name  Fare\n",
      "35          0                     Holverson, Mr. Alexander Oskar  52.0\n",
      "383         1  Holverson, Mrs. Alexander Oskar (Mary Aline To...  52.0\n",
      "     Survived                     Name  Fare\n",
      "270         0    Cairns, Mr. Alexander  31.0\n",
      "842         1  Serepeca, Miss. Augusta  31.0\n"
     ]
    }
   ],
   "source": [
    "# Ticket number might be a better predictor than family name and many people seem to share the same ticket\n",
    "grouped = train.groupby('Ticket')\n",
    "k = 0\n",
    "for name, group in grouped:\n",
    "    if(len(grouped.get_group(name)) > 1):\n",
    "        print(group.loc[:,['Survived', 'Name', 'Fare']])\n",
    "        k += 1\n",
    "    if (k>10):\n",
    "        break"
   ]
  },
  {
   "cell_type": "code",
   "execution_count": 17,
   "metadata": {},
   "outputs": [
    {
     "data": {
      "text/plain": [
       "array([0, 1, 0, ..., 0, 0, 1])"
      ]
     },
     "execution_count": 17,
     "metadata": {},
     "output_type": "execute_result"
    }
   ],
   "source": [
    "#Alternatively I can use this code - I don't understand this piece of code\n",
    "grouped = train.groupby('Ticket')\n",
    "#np.where(grouped.groupby('Ticket')['Name'].transform('count') > 1, 1, 0)\n",
    "np.where(combine.groupby('Ticket')['Name'].transform('count') > 1, 1, 0)"
   ]
  },
  {
   "cell_type": "code",
   "execution_count": 18,
   "metadata": {},
   "outputs": [],
   "source": [
    "# Relations between features"
   ]
  },
  {
   "cell_type": "code",
   "execution_count": 19,
   "metadata": {},
   "outputs": [
    {
     "data": {
      "text/plain": [
       "<matplotlib.axes._subplots.AxesSubplot at 0xb47e542208>"
      ]
     },
     "execution_count": 19,
     "metadata": {},
     "output_type": "execute_result"
    },
    {
     "data": {
      "image/png": "[encoded data removed]",
      "text/plain": [
       "<matplotlib.figure.Figure at 0xb47e542cc0>"
      ]
     },
     "metadata": {},
     "output_type": "display_data"
    }
   ],
   "source": [
    "#Drop Id and get correlations for continuous features - these are actually almost all multinomial features; correlation shouldnt'\n",
    "#make that much sense\n",
    "plt.figure(figsize=(14,12))\n",
    "sns.heatmap(train.drop('PassengerId', axis=1).corr(), vmax=0.6, square=True, annot=True)"
   ]
  },
  {
   "cell_type": "code",
   "execution_count": 20,
   "metadata": {},
   "outputs": [
    {
     "data": {
      "text/plain": [
       "Text(0.5,0,'Female Survival')"
      ]
     },
     "execution_count": 20,
     "metadata": {},
     "output_type": "execute_result"
    },
    {
     "data": {
      "image/png": "[encoded data removed]",
      "text/plain": [
       "<matplotlib.figure.Figure at 0xb47e4b24e0>"
      ]
     },
     "metadata": {},
     "output_type": "display_data"
    }
   ],
   "source": [
    "msurv = train[(train['Survived']==1) & (train['Sex']=='male')]\n",
    "mnosurv = train[(train['Survived']==0) & (train['Sex']=='male')]\n",
    "fsurv = train[(train['Survived']==1) & (train['Sex']=='female')]\n",
    "fnosurv = train[(train['Survived']==0) & (train['Sex']=='female')]\n",
    "surv_col = 'blue'\n",
    "nosurv_col = 'red'\n",
    "\n",
    "warnings.filterwarnings('ignore')\n",
    "plt.figure(figsize=[13,5])\n",
    "\n",
    "plt.subplot(121)\n",
    "sns.kdeplot(msurv['Age'].dropna().values, color=surv_col)\n",
    "sns.kdeplot(mnosurv['Age'].dropna().values, color=nosurv_col)\n",
    "plt.xlabel('Male Survival', fontsize=18)\n",
    "\n",
    "\n",
    "plt.subplot(122)\n",
    "sns.kdeplot(fsurv['Age'].dropna().values, color=surv_col)\n",
    "sns.kdeplot(fnosurv['Age'].dropna().values, color=nosurv_col)\n",
    "plt.xlabel('Female Survival', fontsize=18)"
   ]
  },
  {
   "cell_type": "code",
   "execution_count": 21,
   "metadata": {},
   "outputs": [
    {
     "data": {
      "text/plain": [
       "<matplotlib.collections.LineCollection at 0xb47e94e7f0>"
      ]
     },
     "execution_count": 21,
     "metadata": {},
     "output_type": "execute_result"
    },
    {
     "data": {
      "image/png": "[encoded data removed]",
      "text/plain": [
       "<matplotlib.figure.Figure at 0xb47e516278>"
      ]
     },
     "metadata": {},
     "output_type": "display_data"
    }
   ],
   "source": [
    "#Survival rates by sex and age using violin plot\n",
    "\n",
    "sns.violinplot(x='Sex', y='Age', hue='Survived', data=train, split=True)\n",
    "plt.hlines([0,10], xmin=-1, xmax=3, linestyles='dotted')"
   ]
  },
  {
   "cell_type": "code",
   "execution_count": 22,
   "metadata": {},
   "outputs": [
    {
     "data": {
      "text/plain": [
       "<matplotlib.collections.LineCollection at 0xb47e5f6240>"
      ]
     },
     "execution_count": 22,
     "metadata": {},
     "output_type": "execute_result"
    },
    {
     "data": {
      "image/png": "[encoded data removed]",
      "text/plain": [
       "<matplotlib.figure.Figure at 0xb47e4fbc50>"
      ]
     },
     "metadata": {},
     "output_type": "display_data"
    }
   ],
   "source": [
    "#Survival rates by age and Pclass using violin plot\n",
    "\n",
    "sns.violinplot(x='Pclass', y='Age', hue='Survived', data=train, split=True)\n",
    "plt.hlines([0,10], xmin=-1, xmax=3, linestyles='dotted')"
   ]
  },
  {
   "cell_type": "code",
   "execution_count": 23,
   "metadata": {},
   "outputs": [
    {
     "data": {
      "text/plain": [
       "<matplotlib.collections.LineCollection at 0xb47e5a3c18>"
      ]
     },
     "execution_count": 23,
     "metadata": {},
     "output_type": "execute_result"
    },
    {
     "data": {
      "image/png": "[encoded data removed]",
      "text/plain": [
       "<matplotlib.figure.Figure at 0xb47e989d30>"
      ]
     },
     "metadata": {},
     "output_type": "display_data"
    }
   ],
   "source": [
    "#Survival rates by age and embarked using violin plot\n",
    "\n",
    "sns.violinplot(x='Embarked', y='Age', hue='Survived', data=train, split=True)\n",
    "plt.hlines([0,10], xmin=-1, xmax=3, linestyles='dotted')"
   ]
  },
  {
   "cell_type": "code",
   "execution_count": 24,
   "metadata": {},
   "outputs": [
    {
     "data": {
      "image/png": "[encoded data removed]",
      "text/plain": [
       "<matplotlib.figure.Figure at 0xb47e9521d0>"
      ]
     },
     "metadata": {},
     "output_type": "display_data"
    }
   ],
   "source": [
    "#For two categorical values a mosaic plot is more appropriate or can use a factorplot\n",
    "dummy = mosaic(train, ['Survived', 'Sex', 'Pclass'])"
   ]
  },
  {
   "cell_type": "code",
   "execution_count": 25,
   "metadata": {},
   "outputs": [
    {
     "data": {
      "image/png": "[encoded data removed]",
      "text/plain": [
       "<matplotlib.figure.Figure at 0xb47f147e10>"
      ]
     },
     "metadata": {},
     "output_type": "display_data"
    }
   ],
   "source": [
    "#Factorplot instead where we can encode 4 variables\n",
    "g = sns.factorplot(x='Pclass', y='Survived', hue='Sex', data=train, aspect=0.9, size=3.5, ci=95.0)"
   ]
  },
  {
   "cell_type": "code",
   "execution_count": 26,
   "metadata": {},
   "outputs": [
    {
     "data": {
      "image/png": "[encoded data removed]",
      "text/plain": [
       "<matplotlib.figure.Figure at 0xb47f0b8a58>"
      ]
     },
     "metadata": {},
     "output_type": "display_data"
    }
   ],
   "source": [
    "#Factorplot instead where we can encode 4 variables - entension\n",
    "g = sns.factorplot(x='Pclass', y='Survived', hue='Sex', col='Embarked', data=train, aspect=0.9, size=3.5, ci=95.0)"
   ]
  },
  {
   "cell_type": "code",
   "execution_count": 27,
   "metadata": {},
   "outputs": [],
   "source": [
    "#Skip some visualisations"
   ]
  },
  {
   "cell_type": "code",
   "execution_count": 28,
   "metadata": {
    "collapsed": true
   },
   "outputs": [],
   "source": [
    "#Feature engineering - age, cabin, and embarkment have missing values"
   ]
  },
  {
   "cell_type": "code",
   "execution_count": 29,
   "metadata": {},
   "outputs": [
    {
     "name": "stdout",
     "output_type": "stream",
     "text": [
      "     PassengerId  Survived  Pclass                                       Name  \\\n",
      "61            62         1       1                        Icard, Miss. Amelie   \n",
      "829          830         1       1  Stone, Mrs. George Nelson (Martha Evelyn)   \n",
      "\n",
      "        Sex   Age  SibSp  Parch  Ticket  Fare Cabin Embarked  \n",
      "61   female  38.0      0      0  113572  80.0   B28      NaN  \n",
      "829  female  62.0      0      0  113572  80.0   B28      NaN  \n"
     ]
    }
   ],
   "source": [
    "#Filling in missing data - 'Embarked'\n",
    "print(train[train['Embarked'].isnull()])"
   ]
  },
  {
   "cell_type": "code",
   "execution_count": 30,
   "metadata": {},
   "outputs": [
    {
     "data": {
      "text/plain": [
       "Embarked  Pclass  Sex     Parch  SibSp\n",
       "C         1.0     female  0.0    0.0      30\n",
       "                                 1.0      20\n",
       "                          1.0    0.0      10\n",
       "                                 1.0       6\n",
       "                          2.0    0.0       2\n",
       "                                 2.0       2\n",
       "                          3.0    1.0       1\n",
       "Q         1.0     female  0.0    1.0       2\n",
       "S         1.0     female  0.0    0.0      20\n",
       "                                 1.0      20\n",
       "                                 2.0       3\n",
       "                          1.0    0.0       7\n",
       "                                 1.0       6\n",
       "                          2.0    0.0       4\n",
       "                                 1.0       5\n",
       "                                 3.0       3\n",
       "                          4.0    1.0       1\n",
       "dtype: int64"
      ]
     },
     "execution_count": 30,
     "metadata": {},
     "output_type": "execute_result"
    }
   ],
   "source": [
    "#Let's see what 'Embarked' is associated with people with the same features\n",
    "combine.where((combine['Pclass']==1) & \\\n",
    "             (combine['Sex']=='female')).groupby(['Embarked', 'Pclass', 'Sex', 'Parch', 'SibSp']).size()\n",
    "\n",
    "#combine.where((combine['Embarked']!='Q') & (combine['Pclass']<1.5) & \\\n",
    "             #(combine['Sex']=='female')).groupby(['Embarked', 'Pclass', 'Sex', 'Parch', 'SibSp']).size()"
   ]
  },
  {
   "cell_type": "code",
   "execution_count": 31,
   "metadata": {},
   "outputs": [
    {
     "name": "stdout",
     "output_type": "stream",
     "text": [
      "PassengerId                     62\n",
      "Survived                         1\n",
      "Pclass                           1\n",
      "Name           Icard, Miss. Amelie\n",
      "Sex                         female\n",
      "Age                             38\n",
      "SibSp                            0\n",
      "Parch                            0\n",
      "Ticket                      113572\n",
      "Fare                            80\n",
      "Cabin                          B28\n",
      "Embarked                         C\n",
      "Name: 61, dtype: object\n"
     ]
    }
   ],
   "source": [
    "#C has 30 cases whereas S only has 20 -> impute C\n",
    "train['Embarked'].iloc[61] = 'C'\n",
    "train['Embarked'].iloc[829] = 'C'\n",
    "print(train.iloc[61])"
   ]
  },
  {
   "cell_type": "code",
   "execution_count": 32,
   "metadata": {},
   "outputs": [
    {
     "name": "stdout",
     "output_type": "stream",
     "text": [
      "     PassengerId  Pclass                Name   Sex   Age  SibSp  Parch Ticket  \\\n",
      "152         1044       3  Storey, Mr. Thomas  male  60.5      0      0   3701   \n",
      "\n",
      "     Fare Cabin Embarked  \n",
      "152   NaN   NaN        S  \n"
     ]
    }
   ],
   "source": [
    "#Filling in missing data - 'Fare'\n",
    "print(test[test['Fare'].isnull()])"
   ]
  },
  {
   "cell_type": "code",
   "execution_count": 33,
   "metadata": {},
   "outputs": [
    {
     "name": "stdout",
     "output_type": "stream",
     "text": [
      "PassengerId                  1044\n",
      "Pclass                          3\n",
      "Name           Storey, Mr. Thomas\n",
      "Sex                          male\n",
      "Age                          60.5\n",
      "SibSp                           0\n",
      "Parch                           0\n",
      "Ticket                       3701\n",
      "Fare                         8.05\n",
      "Cabin                         NaN\n",
      "Embarked                        S\n",
      "Name: 152, dtype: object\n"
     ]
    }
   ],
   "source": [
    "#For simplicity, just use median fare\n",
    "test['Fare'].iloc[152] = combine['Fare'][combine['Pclass']==3].dropna().median()\n",
    "print(test.iloc[152])"
   ]
  },
  {
   "cell_type": "code",
   "execution_count": 34,
   "metadata": {},
   "outputs": [
    {
     "data": {
      "text/html": [
       "<div>\n",
       "<style scoped>\n",
       "    .dataframe tbody tr th:only-of-type {\n",
       "        vertical-align: middle;\n",
       "    }\n",
       "\n",
       "    .dataframe tbody tr th {\n",
       "        vertical-align: top;\n",
       "    }\n",
       "\n",
       "    .dataframe thead th {\n",
       "        text-align: right;\n",
       "    }\n",
       "</style>\n",
       "<table border=\"1\" class=\"dataframe\">\n",
       "  <thead>\n",
       "    <tr style=\"text-align: right;\">\n",
       "      <th></th>\n",
       "      <th>PassengerId</th>\n",
       "      <th>Survived</th>\n",
       "      <th>Pclass</th>\n",
       "      <th>Name</th>\n",
       "      <th>Sex</th>\n",
       "      <th>Age</th>\n",
       "      <th>SibSp</th>\n",
       "      <th>Parch</th>\n",
       "      <th>Ticket</th>\n",
       "      <th>Fare</th>\n",
       "      <th>Cabin</th>\n",
       "      <th>Embarked</th>\n",
       "    </tr>\n",
       "  </thead>\n",
       "  <tbody>\n",
       "    <tr>\n",
       "      <th>0</th>\n",
       "      <td>1</td>\n",
       "      <td>0</td>\n",
       "      <td>3</td>\n",
       "      <td>Braund, Mr. Owen Harris</td>\n",
       "      <td>male</td>\n",
       "      <td>22.0</td>\n",
       "      <td>1</td>\n",
       "      <td>0</td>\n",
       "      <td>A/5 21171</td>\n",
       "      <td>7.2500</td>\n",
       "      <td>NaN</td>\n",
       "      <td>S</td>\n",
       "    </tr>\n",
       "    <tr>\n",
       "      <th>2</th>\n",
       "      <td>3</td>\n",
       "      <td>1</td>\n",
       "      <td>3</td>\n",
       "      <td>Heikkinen, Miss. Laina</td>\n",
       "      <td>female</td>\n",
       "      <td>26.0</td>\n",
       "      <td>0</td>\n",
       "      <td>0</td>\n",
       "      <td>STON/O2. 3101282</td>\n",
       "      <td>7.9250</td>\n",
       "      <td>NaN</td>\n",
       "      <td>S</td>\n",
       "    </tr>\n",
       "    <tr>\n",
       "      <th>4</th>\n",
       "      <td>5</td>\n",
       "      <td>0</td>\n",
       "      <td>3</td>\n",
       "      <td>Allen, Mr. William Henry</td>\n",
       "      <td>male</td>\n",
       "      <td>35.0</td>\n",
       "      <td>0</td>\n",
       "      <td>0</td>\n",
       "      <td>373450</td>\n",
       "      <td>8.0500</td>\n",
       "      <td>NaN</td>\n",
       "      <td>S</td>\n",
       "    </tr>\n",
       "    <tr>\n",
       "      <th>5</th>\n",
       "      <td>6</td>\n",
       "      <td>0</td>\n",
       "      <td>3</td>\n",
       "      <td>Moran, Mr. James</td>\n",
       "      <td>male</td>\n",
       "      <td>NaN</td>\n",
       "      <td>0</td>\n",
       "      <td>0</td>\n",
       "      <td>330877</td>\n",
       "      <td>8.4583</td>\n",
       "      <td>NaN</td>\n",
       "      <td>Q</td>\n",
       "    </tr>\n",
       "    <tr>\n",
       "      <th>7</th>\n",
       "      <td>8</td>\n",
       "      <td>0</td>\n",
       "      <td>3</td>\n",
       "      <td>Palsson, Master. Gosta Leonard</td>\n",
       "      <td>male</td>\n",
       "      <td>2.0</td>\n",
       "      <td>3</td>\n",
       "      <td>1</td>\n",
       "      <td>349909</td>\n",
       "      <td>21.0750</td>\n",
       "      <td>NaN</td>\n",
       "      <td>S</td>\n",
       "    </tr>\n",
       "  </tbody>\n",
       "</table>\n",
       "</div>"
      ],
      "text/plain": [
       "   PassengerId  Survived  Pclass                            Name     Sex  \\\n",
       "0            1         0       3         Braund, Mr. Owen Harris    male   \n",
       "2            3         1       3          Heikkinen, Miss. Laina  female   \n",
       "4            5         0       3        Allen, Mr. William Henry    male   \n",
       "5            6         0       3                Moran, Mr. James    male   \n",
       "7            8         0       3  Palsson, Master. Gosta Leonard    male   \n",
       "\n",
       "    Age  SibSp  Parch            Ticket     Fare Cabin Embarked  \n",
       "0  22.0      1      0         A/5 21171   7.2500   NaN        S  \n",
       "2  26.0      0      0  STON/O2. 3101282   7.9250   NaN        S  \n",
       "4  35.0      0      0            373450   8.0500   NaN        S  \n",
       "5   NaN      0      0            330877   8.4583   NaN        Q  \n",
       "7   2.0      3      1            349909  21.0750   NaN        S  "
      ]
     },
     "execution_count": 34,
     "metadata": {},
     "output_type": "execute_result"
    }
   ],
   "source": [
    "#Filling in missing data - 'Cabin'\n",
    "train[train['Cabin'].isnull()].head()"
   ]
  },
  {
   "cell_type": "code",
   "execution_count": 35,
   "metadata": {},
   "outputs": [
    {
     "data": {
      "text/html": [
       "<div>\n",
       "<style scoped>\n",
       "    .dataframe tbody tr th:only-of-type {\n",
       "        vertical-align: middle;\n",
       "    }\n",
       "\n",
       "    .dataframe tbody tr th {\n",
       "        vertical-align: top;\n",
       "    }\n",
       "\n",
       "    .dataframe thead th {\n",
       "        text-align: right;\n",
       "    }\n",
       "</style>\n",
       "<table border=\"1\" class=\"dataframe\">\n",
       "  <thead>\n",
       "    <tr style=\"text-align: right;\">\n",
       "      <th></th>\n",
       "      <th>PassengerId</th>\n",
       "      <th>Pclass</th>\n",
       "      <th>Name</th>\n",
       "      <th>Sex</th>\n",
       "      <th>Age</th>\n",
       "      <th>SibSp</th>\n",
       "      <th>Parch</th>\n",
       "      <th>Ticket</th>\n",
       "      <th>Fare</th>\n",
       "      <th>Cabin</th>\n",
       "      <th>Embarked</th>\n",
       "    </tr>\n",
       "  </thead>\n",
       "  <tbody>\n",
       "    <tr>\n",
       "      <th>1</th>\n",
       "      <td>2</td>\n",
       "      <td>1</td>\n",
       "      <td>Cumings, Mrs. John Bradley (Florence Briggs Th...</td>\n",
       "      <td>female</td>\n",
       "      <td>38.0</td>\n",
       "      <td>1</td>\n",
       "      <td>0</td>\n",
       "      <td>PC 17599</td>\n",
       "      <td>71.2833</td>\n",
       "      <td>C85</td>\n",
       "      <td>C</td>\n",
       "    </tr>\n",
       "    <tr>\n",
       "      <th>3</th>\n",
       "      <td>4</td>\n",
       "      <td>1</td>\n",
       "      <td>Futrelle, Mrs. Jacques Heath (Lily May Peel)</td>\n",
       "      <td>female</td>\n",
       "      <td>35.0</td>\n",
       "      <td>1</td>\n",
       "      <td>0</td>\n",
       "      <td>113803</td>\n",
       "      <td>53.1000</td>\n",
       "      <td>C123</td>\n",
       "      <td>S</td>\n",
       "    </tr>\n",
       "    <tr>\n",
       "      <th>6</th>\n",
       "      <td>7</td>\n",
       "      <td>1</td>\n",
       "      <td>McCarthy, Mr. Timothy J</td>\n",
       "      <td>male</td>\n",
       "      <td>54.0</td>\n",
       "      <td>0</td>\n",
       "      <td>0</td>\n",
       "      <td>17463</td>\n",
       "      <td>51.8625</td>\n",
       "      <td>E46</td>\n",
       "      <td>S</td>\n",
       "    </tr>\n",
       "    <tr>\n",
       "      <th>10</th>\n",
       "      <td>11</td>\n",
       "      <td>3</td>\n",
       "      <td>Sandstrom, Miss. Marguerite Rut</td>\n",
       "      <td>female</td>\n",
       "      <td>4.0</td>\n",
       "      <td>1</td>\n",
       "      <td>1</td>\n",
       "      <td>PP 9549</td>\n",
       "      <td>16.7000</td>\n",
       "      <td>G6</td>\n",
       "      <td>S</td>\n",
       "    </tr>\n",
       "    <tr>\n",
       "      <th>11</th>\n",
       "      <td>12</td>\n",
       "      <td>1</td>\n",
       "      <td>Bonnell, Miss. Elizabeth</td>\n",
       "      <td>female</td>\n",
       "      <td>58.0</td>\n",
       "      <td>0</td>\n",
       "      <td>0</td>\n",
       "      <td>113783</td>\n",
       "      <td>26.5500</td>\n",
       "      <td>C103</td>\n",
       "      <td>S</td>\n",
       "    </tr>\n",
       "  </tbody>\n",
       "</table>\n",
       "</div>"
      ],
      "text/plain": [
       "    PassengerId  Pclass                                               Name  \\\n",
       "1             2       1  Cumings, Mrs. John Bradley (Florence Briggs Th...   \n",
       "3             4       1       Futrelle, Mrs. Jacques Heath (Lily May Peel)   \n",
       "6             7       1                            McCarthy, Mr. Timothy J   \n",
       "10           11       3                    Sandstrom, Miss. Marguerite Rut   \n",
       "11           12       1                           Bonnell, Miss. Elizabeth   \n",
       "\n",
       "       Sex   Age  SibSp  Parch    Ticket     Fare Cabin Embarked  \n",
       "1   female  38.0      1      0  PC 17599  71.2833   C85        C  \n",
       "3   female  35.0      1      0    113803  53.1000  C123        S  \n",
       "6     male  54.0      0      0     17463  51.8625   E46        S  \n",
       "10  female   4.0      1      1   PP 9549  16.7000    G6        S  \n",
       "11  female  58.0      0      0    113783  26.5500  C103        S  "
      ]
     },
     "execution_count": 35,
     "metadata": {},
     "output_type": "execute_result"
    }
   ],
   "source": [
    "#Remove NaNs\n",
    "cabin = combine\n",
    "cabin = cabin[cabin['Cabin'].notnull()]\n",
    "cabin.head()"
   ]
  },
  {
   "cell_type": "code",
   "execution_count": 36,
   "metadata": {},
   "outputs": [
    {
     "data": {
      "text/html": [
       "<div>\n",
       "<style scoped>\n",
       "    .dataframe tbody tr th:only-of-type {\n",
       "        vertical-align: middle;\n",
       "    }\n",
       "\n",
       "    .dataframe tbody tr th {\n",
       "        vertical-align: top;\n",
       "    }\n",
       "\n",
       "    .dataframe thead th {\n",
       "        text-align: right;\n",
       "    }\n",
       "</style>\n",
       "<table border=\"1\" class=\"dataframe\">\n",
       "  <thead>\n",
       "    <tr style=\"text-align: right;\">\n",
       "      <th></th>\n",
       "      <th>PassengerId</th>\n",
       "      <th>Pclass</th>\n",
       "      <th>Name</th>\n",
       "      <th>Sex</th>\n",
       "      <th>Age</th>\n",
       "      <th>SibSp</th>\n",
       "      <th>Parch</th>\n",
       "      <th>Ticket</th>\n",
       "      <th>Fare</th>\n",
       "      <th>Cabin</th>\n",
       "      <th>Embarked</th>\n",
       "    </tr>\n",
       "  </thead>\n",
       "  <tbody>\n",
       "    <tr>\n",
       "      <th>1</th>\n",
       "      <td>2</td>\n",
       "      <td>1</td>\n",
       "      <td>Cumings, Mrs. John Bradley (Florence Briggs Th...</td>\n",
       "      <td>female</td>\n",
       "      <td>38.0</td>\n",
       "      <td>1</td>\n",
       "      <td>0</td>\n",
       "      <td>PC 17599</td>\n",
       "      <td>71.2833</td>\n",
       "      <td>C</td>\n",
       "      <td>C</td>\n",
       "    </tr>\n",
       "    <tr>\n",
       "      <th>3</th>\n",
       "      <td>4</td>\n",
       "      <td>1</td>\n",
       "      <td>Futrelle, Mrs. Jacques Heath (Lily May Peel)</td>\n",
       "      <td>female</td>\n",
       "      <td>35.0</td>\n",
       "      <td>1</td>\n",
       "      <td>0</td>\n",
       "      <td>113803</td>\n",
       "      <td>53.1000</td>\n",
       "      <td>C</td>\n",
       "      <td>S</td>\n",
       "    </tr>\n",
       "    <tr>\n",
       "      <th>6</th>\n",
       "      <td>7</td>\n",
       "      <td>1</td>\n",
       "      <td>McCarthy, Mr. Timothy J</td>\n",
       "      <td>male</td>\n",
       "      <td>54.0</td>\n",
       "      <td>0</td>\n",
       "      <td>0</td>\n",
       "      <td>17463</td>\n",
       "      <td>51.8625</td>\n",
       "      <td>E</td>\n",
       "      <td>S</td>\n",
       "    </tr>\n",
       "    <tr>\n",
       "      <th>10</th>\n",
       "      <td>11</td>\n",
       "      <td>3</td>\n",
       "      <td>Sandstrom, Miss. Marguerite Rut</td>\n",
       "      <td>female</td>\n",
       "      <td>4.0</td>\n",
       "      <td>1</td>\n",
       "      <td>1</td>\n",
       "      <td>PP 9549</td>\n",
       "      <td>16.7000</td>\n",
       "      <td>G</td>\n",
       "      <td>S</td>\n",
       "    </tr>\n",
       "    <tr>\n",
       "      <th>11</th>\n",
       "      <td>12</td>\n",
       "      <td>1</td>\n",
       "      <td>Bonnell, Miss. Elizabeth</td>\n",
       "      <td>female</td>\n",
       "      <td>58.0</td>\n",
       "      <td>0</td>\n",
       "      <td>0</td>\n",
       "      <td>113783</td>\n",
       "      <td>26.5500</td>\n",
       "      <td>C</td>\n",
       "      <td>S</td>\n",
       "    </tr>\n",
       "  </tbody>\n",
       "</table>\n",
       "</div>"
      ],
      "text/plain": [
       "    PassengerId  Pclass                                               Name  \\\n",
       "1             2       1  Cumings, Mrs. John Bradley (Florence Briggs Th...   \n",
       "3             4       1       Futrelle, Mrs. Jacques Heath (Lily May Peel)   \n",
       "6             7       1                            McCarthy, Mr. Timothy J   \n",
       "10           11       3                    Sandstrom, Miss. Marguerite Rut   \n",
       "11           12       1                           Bonnell, Miss. Elizabeth   \n",
       "\n",
       "       Sex   Age  SibSp  Parch    Ticket     Fare Cabin Embarked  \n",
       "1   female  38.0      1      0  PC 17599  71.2833     C        C  \n",
       "3   female  35.0      1      0    113803  53.1000     C        S  \n",
       "6     male  54.0      0      0     17463  51.8625     E        S  \n",
       "10  female   4.0      1      1   PP 9549  16.7000     G        S  \n",
       "11  female  58.0      0      0    113783  26.5500     C        S  "
      ]
     },
     "execution_count": 36,
     "metadata": {},
     "output_type": "execute_result"
    }
   ],
   "source": [
    "#Replace cabins with unique values of cabin letters \n",
    "cabin['Cabin'] = cabin['Cabin'].str[:1]\n",
    "cabin.head()"
   ]
  },
  {
   "cell_type": "code",
   "execution_count": 37,
   "metadata": {},
   "outputs": [
    {
     "data": {
      "text/plain": [
       "<matplotlib.axes._subplots.AxesSubplot at 0xb47f10f978>"
      ]
     },
     "execution_count": 37,
     "metadata": {},
     "output_type": "execute_result"
    },
    {
     "data": {
      "image/png": "[encoded data removed]",
      "text/plain": [
       "<matplotlib.figure.Figure at 0xb47e584c18>"
      ]
     },
     "metadata": {},
     "output_type": "display_data"
    }
   ],
   "source": [
    "#Boxplots for Cabin and Fare\n",
    "#cabin_grouped = cabin.groupby(['Cabin'])\n",
    "#plt.figure()\n",
    "#cabin_grouped.median().sort_values(['Fare']).plot(kind='bar')\n",
    "#cabin_grouped.head()\n",
    "\n",
    "#cabin_sorted = cabin.median().sort_values(['Fare'], axis=1,na_position=\"first\")\n",
    "#cabin_sorted.head(15)\n",
    "\n",
    "sns.boxplot(x='Cabin', y='Fare', data=cabin)"
   ]
  },
  {
   "cell_type": "code",
   "execution_count": 38,
   "metadata": {},
   "outputs": [
    {
     "data": {
      "text/html": [
       "<div>\n",
       "<style scoped>\n",
       "    .dataframe tbody tr th:only-of-type {\n",
       "        vertical-align: middle;\n",
       "    }\n",
       "\n",
       "    .dataframe tbody tr th {\n",
       "        vertical-align: top;\n",
       "    }\n",
       "\n",
       "    .dataframe thead th {\n",
       "        text-align: right;\n",
       "    }\n",
       "</style>\n",
       "<table border=\"1\" class=\"dataframe\">\n",
       "  <thead>\n",
       "    <tr style=\"text-align: right;\">\n",
       "      <th></th>\n",
       "      <th>PassengerId</th>\n",
       "      <th>Pclass</th>\n",
       "      <th>Age</th>\n",
       "      <th>SibSp</th>\n",
       "      <th>Parch</th>\n",
       "      <th>Fare</th>\n",
       "    </tr>\n",
       "    <tr>\n",
       "      <th>Cabin</th>\n",
       "      <th></th>\n",
       "      <th></th>\n",
       "      <th></th>\n",
       "      <th></th>\n",
       "      <th></th>\n",
       "      <th></th>\n",
       "    </tr>\n",
       "  </thead>\n",
       "  <tbody>\n",
       "    <tr>\n",
       "      <th>A</th>\n",
       "      <td>615.5</td>\n",
       "      <td>1.0</td>\n",
       "      <td>41.0</td>\n",
       "      <td>0.0</td>\n",
       "      <td>0.0</td>\n",
       "      <td>35.0771</td>\n",
       "    </tr>\n",
       "    <tr>\n",
       "      <th>B</th>\n",
       "      <td>731.0</td>\n",
       "      <td>1.0</td>\n",
       "      <td>35.0</td>\n",
       "      <td>0.0</td>\n",
       "      <td>0.0</td>\n",
       "      <td>82.2667</td>\n",
       "    </tr>\n",
       "    <tr>\n",
       "      <th>C</th>\n",
       "      <td>640.0</td>\n",
       "      <td>1.0</td>\n",
       "      <td>37.0</td>\n",
       "      <td>1.0</td>\n",
       "      <td>0.0</td>\n",
       "      <td>86.2896</td>\n",
       "    </tr>\n",
       "    <tr>\n",
       "      <th>D</th>\n",
       "      <td>653.0</td>\n",
       "      <td>1.0</td>\n",
       "      <td>42.0</td>\n",
       "      <td>0.0</td>\n",
       "      <td>0.0</td>\n",
       "      <td>52.5542</td>\n",
       "    </tr>\n",
       "    <tr>\n",
       "      <th>E</th>\n",
       "      <td>586.0</td>\n",
       "      <td>1.0</td>\n",
       "      <td>39.0</td>\n",
       "      <td>0.0</td>\n",
       "      <td>0.0</td>\n",
       "      <td>53.1000</td>\n",
       "    </tr>\n",
       "    <tr>\n",
       "      <th>F</th>\n",
       "      <td>700.0</td>\n",
       "      <td>2.0</td>\n",
       "      <td>24.5</td>\n",
       "      <td>0.0</td>\n",
       "      <td>0.0</td>\n",
       "      <td>13.0000</td>\n",
       "    </tr>\n",
       "    <tr>\n",
       "      <th>G</th>\n",
       "      <td>252.0</td>\n",
       "      <td>3.0</td>\n",
       "      <td>4.0</td>\n",
       "      <td>1.0</td>\n",
       "      <td>1.0</td>\n",
       "      <td>16.7000</td>\n",
       "    </tr>\n",
       "    <tr>\n",
       "      <th>T</th>\n",
       "      <td>340.0</td>\n",
       "      <td>1.0</td>\n",
       "      <td>45.0</td>\n",
       "      <td>0.0</td>\n",
       "      <td>0.0</td>\n",
       "      <td>35.5000</td>\n",
       "    </tr>\n",
       "  </tbody>\n",
       "</table>\n",
       "</div>"
      ],
      "text/plain": [
       "       PassengerId  Pclass   Age  SibSp  Parch     Fare\n",
       "Cabin                                                  \n",
       "A            615.5     1.0  41.0    0.0    0.0  35.0771\n",
       "B            731.0     1.0  35.0    0.0    0.0  82.2667\n",
       "C            640.0     1.0  37.0    1.0    0.0  86.2896\n",
       "D            653.0     1.0  42.0    0.0    0.0  52.5542\n",
       "E            586.0     1.0  39.0    0.0    0.0  53.1000\n",
       "F            700.0     2.0  24.5    0.0    0.0  13.0000\n",
       "G            252.0     3.0   4.0    1.0    1.0  16.7000\n",
       "T            340.0     1.0  45.0    0.0    0.0  35.5000"
      ]
     },
     "execution_count": 38,
     "metadata": {},
     "output_type": "execute_result"
    }
   ],
   "source": [
    "cabin.groupby('Cabin').median()"
   ]
  },
  {
   "cell_type": "code",
   "execution_count": 39,
   "metadata": {
    "scrolled": true
   },
   "outputs": [
    {
     "data": {
      "text/html": [
       "<div>\n",
       "<style scoped>\n",
       "    .dataframe tbody tr th:only-of-type {\n",
       "        vertical-align: middle;\n",
       "    }\n",
       "\n",
       "    .dataframe tbody tr th {\n",
       "        vertical-align: top;\n",
       "    }\n",
       "\n",
       "    .dataframe thead th {\n",
       "        text-align: right;\n",
       "    }\n",
       "</style>\n",
       "<table border=\"1\" class=\"dataframe\">\n",
       "  <thead>\n",
       "    <tr style=\"text-align: right;\">\n",
       "      <th></th>\n",
       "      <th>PassengerId</th>\n",
       "      <th>Pclass</th>\n",
       "      <th>Name</th>\n",
       "      <th>Sex</th>\n",
       "      <th>Age</th>\n",
       "      <th>SibSp</th>\n",
       "      <th>Parch</th>\n",
       "      <th>Ticket</th>\n",
       "      <th>Fare</th>\n",
       "      <th>Cabin</th>\n",
       "      <th>...</th>\n",
       "      <th>Deck</th>\n",
       "      <th>Ttype</th>\n",
       "      <th>Title</th>\n",
       "      <th>Fare_cat</th>\n",
       "      <th>Bad_ticket</th>\n",
       "      <th>Young</th>\n",
       "      <th>Shared_ticket</th>\n",
       "      <th>Ticket_group</th>\n",
       "      <th>Fare_eff</th>\n",
       "      <th>Fare_eff_cat</th>\n",
       "    </tr>\n",
       "  </thead>\n",
       "  <tbody>\n",
       "    <tr>\n",
       "      <th>0</th>\n",
       "      <td>1</td>\n",
       "      <td>3</td>\n",
       "      <td>Braund, Mr. Owen Harris</td>\n",
       "      <td>male</td>\n",
       "      <td>22.0</td>\n",
       "      <td>1</td>\n",
       "      <td>0</td>\n",
       "      <td>A/5 21171</td>\n",
       "      <td>7.2500</td>\n",
       "      <td>NaN</td>\n",
       "      <td>...</td>\n",
       "      <td>U</td>\n",
       "      <td>A</td>\n",
       "      <td>Mr. Owen Harris</td>\n",
       "      <td>0</td>\n",
       "      <td>True</td>\n",
       "      <td>True</td>\n",
       "      <td>0</td>\n",
       "      <td>1</td>\n",
       "      <td>7.25000</td>\n",
       "      <td>1</td>\n",
       "    </tr>\n",
       "    <tr>\n",
       "      <th>1</th>\n",
       "      <td>2</td>\n",
       "      <td>1</td>\n",
       "      <td>Cumings, Mrs. John Bradley (Florence Briggs Th...</td>\n",
       "      <td>female</td>\n",
       "      <td>38.0</td>\n",
       "      <td>1</td>\n",
       "      <td>0</td>\n",
       "      <td>PC 17599</td>\n",
       "      <td>71.2833</td>\n",
       "      <td>C85</td>\n",
       "      <td>...</td>\n",
       "      <td>C</td>\n",
       "      <td>P</td>\n",
       "      <td>Mrs. John Bradley (Florence Briggs Thayer)</td>\n",
       "      <td>1</td>\n",
       "      <td>False</td>\n",
       "      <td>False</td>\n",
       "      <td>1</td>\n",
       "      <td>2</td>\n",
       "      <td>35.64165</td>\n",
       "      <td>2</td>\n",
       "    </tr>\n",
       "    <tr>\n",
       "      <th>2</th>\n",
       "      <td>3</td>\n",
       "      <td>3</td>\n",
       "      <td>Heikkinen, Miss. Laina</td>\n",
       "      <td>female</td>\n",
       "      <td>26.0</td>\n",
       "      <td>0</td>\n",
       "      <td>0</td>\n",
       "      <td>STON/O2. 3101282</td>\n",
       "      <td>7.9250</td>\n",
       "      <td>NaN</td>\n",
       "      <td>...</td>\n",
       "      <td>U</td>\n",
       "      <td>S</td>\n",
       "      <td>Miss. Laina</td>\n",
       "      <td>0</td>\n",
       "      <td>False</td>\n",
       "      <td>True</td>\n",
       "      <td>0</td>\n",
       "      <td>1</td>\n",
       "      <td>7.92500</td>\n",
       "      <td>1</td>\n",
       "    </tr>\n",
       "    <tr>\n",
       "      <th>3</th>\n",
       "      <td>4</td>\n",
       "      <td>1</td>\n",
       "      <td>Futrelle, Mrs. Jacques Heath (Lily May Peel)</td>\n",
       "      <td>female</td>\n",
       "      <td>35.0</td>\n",
       "      <td>1</td>\n",
       "      <td>0</td>\n",
       "      <td>113803</td>\n",
       "      <td>53.1000</td>\n",
       "      <td>C123</td>\n",
       "      <td>...</td>\n",
       "      <td>C</td>\n",
       "      <td>1</td>\n",
       "      <td>Mrs. Jacques Heath (Lily May Peel)</td>\n",
       "      <td>1</td>\n",
       "      <td>False</td>\n",
       "      <td>False</td>\n",
       "      <td>1</td>\n",
       "      <td>2</td>\n",
       "      <td>26.55000</td>\n",
       "      <td>2</td>\n",
       "    </tr>\n",
       "    <tr>\n",
       "      <th>4</th>\n",
       "      <td>5</td>\n",
       "      <td>3</td>\n",
       "      <td>Allen, Mr. William Henry</td>\n",
       "      <td>male</td>\n",
       "      <td>35.0</td>\n",
       "      <td>0</td>\n",
       "      <td>0</td>\n",
       "      <td>373450</td>\n",
       "      <td>8.0500</td>\n",
       "      <td>NaN</td>\n",
       "      <td>...</td>\n",
       "      <td>U</td>\n",
       "      <td>3</td>\n",
       "      <td>Mr. William Henry</td>\n",
       "      <td>0</td>\n",
       "      <td>True</td>\n",
       "      <td>False</td>\n",
       "      <td>0</td>\n",
       "      <td>1</td>\n",
       "      <td>8.05000</td>\n",
       "      <td>1</td>\n",
       "    </tr>\n",
       "  </tbody>\n",
       "</table>\n",
       "<p>5 rows × 27 columns</p>\n",
       "</div>"
      ],
      "text/plain": [
       "   PassengerId  Pclass                                               Name  \\\n",
       "0            1       3                            Braund, Mr. Owen Harris   \n",
       "1            2       1  Cumings, Mrs. John Bradley (Florence Briggs Th...   \n",
       "2            3       3                             Heikkinen, Miss. Laina   \n",
       "3            4       1       Futrelle, Mrs. Jacques Heath (Lily May Peel)   \n",
       "4            5       3                           Allen, Mr. William Henry   \n",
       "\n",
       "      Sex   Age  SibSp  Parch            Ticket     Fare Cabin     ...       \\\n",
       "0    male  22.0      1      0         A/5 21171   7.2500   NaN     ...        \n",
       "1  female  38.0      1      0          PC 17599  71.2833   C85     ...        \n",
       "2  female  26.0      0      0  STON/O2. 3101282   7.9250   NaN     ...        \n",
       "3  female  35.0      1      0            113803  53.1000  C123     ...        \n",
       "4    male  35.0      0      0            373450   8.0500   NaN     ...        \n",
       "\n",
       "  Deck  Ttype                                       Title  Fare_cat  \\\n",
       "0    U      A                             Mr. Owen Harris         0   \n",
       "1    C      P  Mrs. John Bradley (Florence Briggs Thayer)         1   \n",
       "2    U      S                                 Miss. Laina         0   \n",
       "3    C      1          Mrs. Jacques Heath (Lily May Peel)         1   \n",
       "4    U      3                           Mr. William Henry         0   \n",
       "\n",
       "   Bad_ticket  Young  Shared_ticket Ticket_group  Fare_eff Fare_eff_cat  \n",
       "0        True   True              0            1   7.25000            1  \n",
       "1       False  False              1            2  35.64165            2  \n",
       "2       False   True              0            1   7.92500            1  \n",
       "3       False  False              1            2  26.55000            2  \n",
       "4        True  False              0            1   8.05000            1  \n",
       "\n",
       "[5 rows x 27 columns]"
      ]
     },
     "execution_count": 39,
     "metadata": {},
     "output_type": "execute_result"
    }
   ],
   "source": [
    "#Feature Engineering\n",
    "\n",
    "combine = pd.concat([train.drop('Survived', 1), test])\n",
    "survived = train['Survived']\n",
    "\n",
    "#combine.head()\n",
    "combine['Child'] = combine['Age'] <= 10\n",
    "combine['Cabin_known'] = combine['Cabin'].isnull() == False\n",
    "combine['Age_known'] = combine['Age'].isnull() == False\n",
    "combine['Family'] = combine['SibSp'] + combine['Parch']\n",
    "combine['Alone'] = (combine['SibSp'] + combine['Parch']) == 0\n",
    "combine['Large_Family'] = (combine['SibSp'] > 2) | (combine['Parch'] > 3)\n",
    "combine['Deck'] = combine['Cabin'].str[0]\n",
    "combine['Deck'] = combine['Deck'].fillna(value='U')\n",
    "combine['Ttype'] = combine['Ticket'].str[0]\n",
    "combine['Title'] = combine['Name'].str.split(\", \", expand=True)[1].str.split(\", \", expand=True)[0]\n",
    "combine['Fare_cat'] = pd.DataFrame(np.floor(np.log10(combine['Fare'] + 1))).astype('int')\n",
    "combine['Bad_ticket'] = combine['Ttype'].isin(['3','4','5','6','7','8','A','L','W'])\n",
    "combine['Young'] = (combine['Age']<=30) | (combine['Title'].isin(['Master', 'Miss', 'Mlle']))\n",
    "combine['Shared_ticket'] = np.where(combine.groupby('Ticket')['Name'].transform('count') > 1, 1, 0)\n",
    "combine['Ticket_group'] = combine.groupby('Ticket')['Name'].transform('count')\n",
    "combine['Fare_eff'] = combine['Fare']/combine['Ticket_group']\n",
    "combine['Fare_eff_cat'] = np.where(combine['Fare_eff']>16.0, 2, 1)\n",
    "test = combine.iloc[len(train):]\n",
    "train = combine.iloc[:len(train)]\n",
    "train['Survived'] = survived\n",
    "\n",
    "surv = train[train['Survived'] == 1]\n",
    "nosurv = train[train['Survived'] == 0]\n",
    "\n",
    "\n",
    "combine.head()"
   ]
  },
  {
   "cell_type": "code",
   "execution_count": 40,
   "metadata": {},
   "outputs": [
    {
     "data": {
      "text/html": [
       "<div>\n",
       "<style scoped>\n",
       "    .dataframe tbody tr th:only-of-type {\n",
       "        vertical-align: middle;\n",
       "    }\n",
       "\n",
       "    .dataframe tbody tr th {\n",
       "        vertical-align: top;\n",
       "    }\n",
       "\n",
       "    .dataframe thead th {\n",
       "        text-align: right;\n",
       "    }\n",
       "</style>\n",
       "<table border=\"1\" class=\"dataframe\">\n",
       "  <thead>\n",
       "    <tr style=\"text-align: right;\">\n",
       "      <th></th>\n",
       "      <th>Ticket</th>\n",
       "      <th>Ticket_group</th>\n",
       "      <th>Shared_ticket</th>\n",
       "    </tr>\n",
       "  </thead>\n",
       "  <tbody>\n",
       "    <tr>\n",
       "      <th>0</th>\n",
       "      <td>A/5 21171</td>\n",
       "      <td>1</td>\n",
       "      <td>0</td>\n",
       "    </tr>\n",
       "    <tr>\n",
       "      <th>1</th>\n",
       "      <td>PC 17599</td>\n",
       "      <td>2</td>\n",
       "      <td>1</td>\n",
       "    </tr>\n",
       "    <tr>\n",
       "      <th>2</th>\n",
       "      <td>STON/O2. 3101282</td>\n",
       "      <td>1</td>\n",
       "      <td>0</td>\n",
       "    </tr>\n",
       "    <tr>\n",
       "      <th>3</th>\n",
       "      <td>113803</td>\n",
       "      <td>2</td>\n",
       "      <td>1</td>\n",
       "    </tr>\n",
       "    <tr>\n",
       "      <th>4</th>\n",
       "      <td>373450</td>\n",
       "      <td>1</td>\n",
       "      <td>0</td>\n",
       "    </tr>\n",
       "  </tbody>\n",
       "</table>\n",
       "</div>"
      ],
      "text/plain": [
       "             Ticket  Ticket_group  Shared_ticket\n",
       "0         A/5 21171             1              0\n",
       "1          PC 17599             2              1\n",
       "2  STON/O2. 3101282             1              0\n",
       "3            113803             2              1\n",
       "4            373450             1              0"
      ]
     },
     "execution_count": 40,
     "metadata": {},
     "output_type": "execute_result"
    }
   ],
   "source": [
    "combine[['Ticket', 'Ticket_group', 'Shared_ticket']].head()"
   ]
  },
  {
   "cell_type": "code",
   "execution_count": 41,
   "metadata": {},
   "outputs": [
    {
     "data": {
      "text/plain": [
       "<matplotlib.axes._subplots.AxesSubplot at 0xb47f677b00>"
      ]
     },
     "execution_count": 41,
     "metadata": {},
     "output_type": "execute_result"
    },
    {
     "data": {
      "image/png": "[encoded data removed]",
      "text/plain": [
       "<matplotlib.figure.Figure at 0xb47f677f28>"
      ]
     },
     "metadata": {},
     "output_type": "display_data"
    }
   ],
   "source": [
    "plt.figure(figsize=[20,5])\n",
    "plt.subplot(121)\n",
    "sns.distplot(combine['Fare_eff'].dropna().values, bins=range(0, 81, 1), kde=False, color=surv_col)"
   ]
  },
  {
   "cell_type": "code",
   "execution_count": 42,
   "metadata": {},
   "outputs": [
    {
     "data": {
      "text/plain": [
       "[<matplotlib.lines.Line2D at 0xb47f7d3630>]"
      ]
     },
     "execution_count": 42,
     "metadata": {},
     "output_type": "execute_result"
    },
    {
     "data": {
      "image/png": "[encoded data removed]",
      "text/plain": [
       "<matplotlib.figure.Figure at 0xb47f730588>"
      ]
     },
     "metadata": {},
     "output_type": "display_data"
    }
   ],
   "source": [
    "plt.figure(figsize=[20,5])\n",
    "plt.subplot(121)\n",
    "sns.kdeplot(combine['Fare_eff'].dropna().values, cumulative = True)\n",
    "plt.plot([16, 16], [0, 1], linewidth=2)\n",
    "plt.plot([0, 16], [0.75, 0.75], linewidth=2)"
   ]
  },
  {
   "cell_type": "code",
   "execution_count": 43,
   "metadata": {},
   "outputs": [
    {
     "name": "stdout",
     "output_type": "stream",
     "text": [
      "Title\n",
      "Capt          1\n",
      "Col           4\n",
      "Don           1\n",
      "Dona          1\n",
      "Dr            7\n",
      "Jonkheer      1\n",
      "Lady          1\n",
      "Major         2\n",
      "Master       53\n",
      "Miss        210\n",
      "Mlle          2\n",
      "Mme           1\n",
      "Mr          581\n",
      "Mrs         170\n",
      "Ms            1\n",
      "Rev           8\n",
      "Sir           1\n",
      "th            1\n",
      "Name: Age, dtype: int64\n",
      "Title\n",
      "Capt        70.000000\n",
      "Col         54.000000\n",
      "Don         40.000000\n",
      "Dona        39.000000\n",
      "Dr          43.571429\n",
      "Jonkheer    38.000000\n",
      "Lady        48.000000\n",
      "Major       48.500000\n",
      "Master       5.482642\n",
      "Miss        21.774238\n",
      "Mlle        24.000000\n",
      "Mme         24.000000\n",
      "Mr          32.252151\n",
      "Mrs         36.994118\n",
      "Ms          28.000000\n",
      "Rev         41.250000\n",
      "Sir         49.000000\n",
      "th          33.000000\n",
      "Name: Age, dtype: float64\n",
      "There are 18 unique titles in total.\n"
     ]
    }
   ],
   "source": [
    "combine['Title'] = combine['Name'].str.split(\", \", expand=True)[1].str.split(\". \", expand=True)[0]\n",
    "\n",
    "print(combine['Age'].groupby(combine['Title']).count())\n",
    "print(combine['Age'].groupby(combine['Title']).mean())\n",
    "\n",
    "print(\"There are %i unique titles in total.\"%(len(combine['Title'].unique())))"
   ]
  },
  {
   "cell_type": "code",
   "execution_count": 44,
   "metadata": {},
   "outputs": [
    {
     "data": {
      "text/plain": [
       "0                                Braund, Mr. Owen Harris\n",
       "1      Cumings, Mrs. John Bradley (Florence Briggs Th...\n",
       "2                                 Heikkinen, Miss. Laina\n",
       "3           Futrelle, Mrs. Jacques Heath (Lily May Peel)\n",
       "4                               Allen, Mr. William Henry\n",
       "5                                       Moran, Mr. James\n",
       "6                                McCarthy, Mr. Timothy J\n",
       "7                         Palsson, Master. Gosta Leonard\n",
       "8      Johnson, Mrs. Oscar W (Elisabeth Vilhelmina Berg)\n",
       "9                    Nasser, Mrs. Nicholas (Adele Achem)\n",
       "10                       Sandstrom, Miss. Marguerite Rut\n",
       "11                              Bonnell, Miss. Elizabeth\n",
       "12                        Saundercock, Mr. William Henry\n",
       "13                           Andersson, Mr. Anders Johan\n",
       "14                  Vestrom, Miss. Hulda Amanda Adolfina\n",
       "15                      Hewlett, Mrs. (Mary D Kingcome) \n",
       "16                                  Rice, Master. Eugene\n",
       "17                          Williams, Mr. Charles Eugene\n",
       "18     Vander Planke, Mrs. Julius (Emelia Maria Vande...\n",
       "19                               Masselmani, Mrs. Fatima\n",
       "20                                  Fynney, Mr. Joseph J\n",
       "21                                 Beesley, Mr. Lawrence\n",
       "22                           McGowan, Miss. Anna \"Annie\"\n",
       "23                          Sloper, Mr. William Thompson\n",
       "24                         Palsson, Miss. Torborg Danira\n",
       "25     Asplund, Mrs. Carl Oscar (Selma Augusta Emilia...\n",
       "26                               Emir, Mr. Farred Chehab\n",
       "27                        Fortune, Mr. Charles Alexander\n",
       "28                         O'Dwyer, Miss. Ellen \"Nellie\"\n",
       "29                                   Todoroff, Mr. Lalio\n",
       "                             ...                        \n",
       "861                          Giles, Mr. Frederick Edward\n",
       "862    Swift, Mrs. Frederick Joel (Margaret Welles Ba...\n",
       "863                    Sage, Miss. Dorothy Edith \"Dolly\"\n",
       "864                               Gill, Mr. John William\n",
       "865                             Bystrom, Mrs. (Karolina)\n",
       "866                         Duran y More, Miss. Asuncion\n",
       "867                 Roebling, Mr. Washington Augustus II\n",
       "868                          van Melkebeke, Mr. Philemon\n",
       "869                      Johnson, Master. Harold Theodor\n",
       "870                                    Balkic, Mr. Cerin\n",
       "871     Beckwith, Mrs. Richard Leonard (Sallie Monypeny)\n",
       "872                             Carlsson, Mr. Frans Olof\n",
       "873                          Vander Cruyssen, Mr. Victor\n",
       "874                Abelson, Mrs. Samuel (Hannah Wizosky)\n",
       "875                     Najib, Miss. Adele Kiamie \"Jane\"\n",
       "876                        Gustafsson, Mr. Alfred Ossian\n",
       "877                                 Petroff, Mr. Nedelio\n",
       "878                                   Laleff, Mr. Kristo\n",
       "879        Potter, Mrs. Thomas Jr (Lily Alexenia Wilson)\n",
       "880         Shelley, Mrs. William (Imanita Parrish Hall)\n",
       "881                                   Markun, Mr. Johann\n",
       "882                         Dahlberg, Miss. Gerda Ulrika\n",
       "883                        Banfield, Mr. Frederick James\n",
       "884                               Sutehall, Mr. Henry Jr\n",
       "885                 Rice, Mrs. William (Margaret Norton)\n",
       "886                                Montvila, Rev. Juozas\n",
       "887                         Graham, Miss. Margaret Edith\n",
       "888             Johnston, Miss. Catherine Helen \"Carrie\"\n",
       "889                                Behr, Mr. Karl Howell\n",
       "890                                  Dooley, Mr. Patrick\n",
       "Name: Name, Length: 891, dtype: object"
      ]
     },
     "execution_count": 44,
     "metadata": {},
     "output_type": "execute_result"
    }
   ],
   "source": [
    "train['Name']"
   ]
  },
  {
   "cell_type": "code",
   "execution_count": 45,
   "metadata": {},
   "outputs": [
    {
     "data": {
      "text/html": [
       "<div>\n",
       "<style scoped>\n",
       "    .dataframe tbody tr th:only-of-type {\n",
       "        vertical-align: middle;\n",
       "    }\n",
       "\n",
       "    .dataframe tbody tr th {\n",
       "        vertical-align: top;\n",
       "    }\n",
       "\n",
       "    .dataframe thead th {\n",
       "        text-align: right;\n",
       "    }\n",
       "</style>\n",
       "<table border=\"1\" class=\"dataframe\">\n",
       "  <thead>\n",
       "    <tr style=\"text-align: right;\">\n",
       "      <th></th>\n",
       "      <th>Sex</th>\n",
       "      <th>Embarked</th>\n",
       "    </tr>\n",
       "  </thead>\n",
       "  <tbody>\n",
       "    <tr>\n",
       "      <th>0</th>\n",
       "      <td>1</td>\n",
       "      <td>2</td>\n",
       "    </tr>\n",
       "    <tr>\n",
       "      <th>1</th>\n",
       "      <td>0</td>\n",
       "      <td>0</td>\n",
       "    </tr>\n",
       "    <tr>\n",
       "      <th>2</th>\n",
       "      <td>0</td>\n",
       "      <td>2</td>\n",
       "    </tr>\n",
       "    <tr>\n",
       "      <th>3</th>\n",
       "      <td>0</td>\n",
       "      <td>2</td>\n",
       "    </tr>\n",
       "    <tr>\n",
       "      <th>4</th>\n",
       "      <td>1</td>\n",
       "      <td>2</td>\n",
       "    </tr>\n",
       "  </tbody>\n",
       "</table>\n",
       "</div>"
      ],
      "text/plain": [
       "   Sex  Embarked\n",
       "0    1         2\n",
       "1    0         0\n",
       "2    0         2\n",
       "3    0         2\n",
       "4    1         2"
      ]
     },
     "execution_count": 45,
     "metadata": {},
     "output_type": "execute_result"
    }
   ],
   "source": [
    "combine = pd.concat([train.drop('Survived',1),test])\n",
    "survived = train['Survived']\n",
    "\n",
    "combine[\"Sex\"] = combine[\"Sex\"].astype(\"category\")\n",
    "combine[\"Sex\"].cat.categories = [0,1]\n",
    "combine[\"Sex\"] = combine[\"Sex\"].astype(\"int\")\n",
    "combine[\"Embarked\"] = combine[\"Embarked\"].astype(\"category\")\n",
    "combine[\"Embarked\"].cat.categories = [0,1,2]\n",
    "combine[\"Embarked\"] = combine[\"Embarked\"].astype(\"int\")\n",
    "combine[\"Deck\"] = combine[\"Deck\"].astype(\"category\")\n",
    "combine[\"Deck\"].cat.categories = [0,1,2,3,4,5,6,7,8]\n",
    "combine[\"Deck\"] = combine[\"Deck\"].astype(\"int\")\n",
    "\n",
    "test = combine.iloc[len(train):]\n",
    "train = combine.iloc[:len(train)]\n",
    "train['Survived'] = survived\n",
    "\n",
    "train.loc[:,[\"Sex\",\"Embarked\"]].head()"
   ]
  },
  {
   "cell_type": "code",
   "execution_count": 46,
   "metadata": {},
   "outputs": [
    {
     "data": {
      "image/png": "[encoded data removed]",
      "text/plain": [
       "<matplotlib.figure.Figure at 0xb47f2cb3c8>"
      ]
     },
     "metadata": {},
     "output_type": "display_data"
    }
   ],
   "source": [
    "ax = plt.subplots( figsize =( 12 , 10 ) )\n",
    "foo = sns.heatmap(train.drop('PassengerId',axis=1).corr(), vmax=1.0, square=True, annot=False)"
   ]
  },
  {
   "cell_type": "markdown",
   "metadata": {
    "collapsed": true
   },
   "source": [
    "# Modelling"
   ]
  },
  {
   "cell_type": "code",
   "execution_count": 47,
   "metadata": {},
   "outputs": [
    {
     "name": "stdout",
     "output_type": "stream",
     "text": [
      "Total sample size = 891; training sample size = 712, testing sample size = 179\n"
     ]
    }
   ],
   "source": [
    "training, testing = train_test_split(train, test_size=0.2, random_state=0)\n",
    "print(\"Total sample size = %i; training sample size = %i, testing sample size = %i\"\\\n",
    "     %(train.shape[0],training.shape[0],testing.shape[0]))"
   ]
  },
  {
   "cell_type": "code",
   "execution_count": 48,
   "metadata": {
    "collapsed": true
   },
   "outputs": [],
   "source": [
    "#Logistic Regression"
   ]
  },
  {
   "cell_type": "code",
   "execution_count": 49,
   "metadata": {
    "collapsed": true
   },
   "outputs": [],
   "source": [
    "cols = ['Sex','Pclass','Cabin_known','Large_Family','Parch',\n",
    "        'SibSp','Young','Alone','Shared_ticket','Child']\n",
    "tcols = np.append(['Survived'],cols)\n",
    "\n",
    "df = training.loc[:,tcols].dropna()\n",
    "X = df.loc[:,cols]\n",
    "y = np.ravel(df.loc[:,['Survived']])"
   ]
  },
  {
   "cell_type": "code",
   "execution_count": 50,
   "metadata": {},
   "outputs": [
    {
     "name": "stdout",
     "output_type": "stream",
     "text": [
      "0.813202247191\n"
     ]
    }
   ],
   "source": [
    "clf_log = LogisticRegression()\n",
    "clf_log = clf_log.fit(X,y)\n",
    "score_log1 = clf_log.score(X,y)\n",
    "#score_log = cross_val_score(clf_log, X, y, cv=5).mean()\n",
    "print(score_log1)"
   ]
  },
  {
   "cell_type": "code",
   "execution_count": 51,
   "metadata": {},
   "outputs": [
    {
     "data": {
      "text/html": [
       "<div>\n",
       "<style scoped>\n",
       "    .dataframe tbody tr th:only-of-type {\n",
       "        vertical-align: middle;\n",
       "    }\n",
       "\n",
       "    .dataframe tbody tr th {\n",
       "        vertical-align: top;\n",
       "    }\n",
       "\n",
       "    .dataframe thead th {\n",
       "        text-align: right;\n",
       "    }\n",
       "</style>\n",
       "<table border=\"1\" class=\"dataframe\">\n",
       "  <thead>\n",
       "    <tr style=\"text-align: right;\">\n",
       "      <th></th>\n",
       "      <th>0</th>\n",
       "      <th>1</th>\n",
       "    </tr>\n",
       "  </thead>\n",
       "  <tbody>\n",
       "    <tr>\n",
       "      <th>0</th>\n",
       "      <td>Sex</td>\n",
       "      <td>[-2.53136573861]</td>\n",
       "    </tr>\n",
       "    <tr>\n",
       "      <th>1</th>\n",
       "      <td>Pclass</td>\n",
       "      <td>[-0.528089412655]</td>\n",
       "    </tr>\n",
       "    <tr>\n",
       "      <th>2</th>\n",
       "      <td>Cabin_known</td>\n",
       "      <td>[0.666661582993]</td>\n",
       "    </tr>\n",
       "    <tr>\n",
       "      <th>3</th>\n",
       "      <td>Large_Family</td>\n",
       "      <td>[-1.42117469116]</td>\n",
       "    </tr>\n",
       "    <tr>\n",
       "      <th>4</th>\n",
       "      <td>Parch</td>\n",
       "      <td>[-0.0371646996211]</td>\n",
       "    </tr>\n",
       "    <tr>\n",
       "      <th>5</th>\n",
       "      <td>SibSp</td>\n",
       "      <td>[-0.236930061316]</td>\n",
       "    </tr>\n",
       "    <tr>\n",
       "      <th>6</th>\n",
       "      <td>Young</td>\n",
       "      <td>[0.292179313174]</td>\n",
       "    </tr>\n",
       "    <tr>\n",
       "      <th>7</th>\n",
       "      <td>Alone</td>\n",
       "      <td>[-0.0214310328819]</td>\n",
       "    </tr>\n",
       "    <tr>\n",
       "      <th>8</th>\n",
       "      <td>Shared_ticket</td>\n",
       "      <td>[0.169394895603]</td>\n",
       "    </tr>\n",
       "    <tr>\n",
       "      <th>9</th>\n",
       "      <td>Child</td>\n",
       "      <td>[1.46227097122]</td>\n",
       "    </tr>\n",
       "  </tbody>\n",
       "</table>\n",
       "</div>"
      ],
      "text/plain": [
       "               0                   1\n",
       "0            Sex    [-2.53136573861]\n",
       "1         Pclass   [-0.528089412655]\n",
       "2    Cabin_known    [0.666661582993]\n",
       "3   Large_Family    [-1.42117469116]\n",
       "4          Parch  [-0.0371646996211]\n",
       "5          SibSp   [-0.236930061316]\n",
       "6          Young    [0.292179313174]\n",
       "7          Alone  [-0.0214310328819]\n",
       "8  Shared_ticket    [0.169394895603]\n",
       "9          Child     [1.46227097122]"
      ]
     },
     "execution_count": 51,
     "metadata": {},
     "output_type": "execute_result"
    }
   ],
   "source": [
    "pd.DataFrame(list(zip(X.columns, np.transpose(clf_log.coef_))))"
   ]
  },
  {
   "cell_type": "code",
   "execution_count": 52,
   "metadata": {
    "collapsed": true
   },
   "outputs": [],
   "source": [
    "#Logistic Regression with fewer variables"
   ]
  },
  {
   "cell_type": "code",
   "execution_count": 53,
   "metadata": {
    "collapsed": true
   },
   "outputs": [],
   "source": [
    "cols = ['Sex','Pclass','Cabin_known','Large_Family','Shared_ticket','Young','Alone','Child']\n",
    "tcols = np.append(['Survived'],cols)\n",
    "\n",
    "df = training.loc[:,tcols].dropna()\n",
    "X = df.loc[:,cols]\n",
    "y = np.ravel(df.loc[:,['Survived']])\n",
    "\n",
    "df_test = testing.loc[:,tcols].dropna()\n",
    "X_test = df_test.loc[:,cols]\n",
    "y_test = np.ravel(df_test.loc[:,['Survived']])"
   ]
  },
  {
   "cell_type": "code",
   "execution_count": 54,
   "metadata": {},
   "outputs": [
    {
     "name": "stdout",
     "output_type": "stream",
     "text": [
      "0.804902160071\n"
     ]
    }
   ],
   "source": [
    "clf_log = LogisticRegression()\n",
    "clf_log = clf_log.fit(X,y)\n",
    "score_log2 = cross_val_score(clf_log, X, y, cv=5).mean()\n",
    "print(score_log2)"
   ]
  },
  {
   "cell_type": "code",
   "execution_count": 55,
   "metadata": {
    "collapsed": true
   },
   "outputs": [],
   "source": [
    "#Perceptron"
   ]
  },
  {
   "cell_type": "code",
   "execution_count": 56,
   "metadata": {},
   "outputs": [
    {
     "name": "stdout",
     "output_type": "stream",
     "text": [
      "0.781076689767\n"
     ]
    }
   ],
   "source": [
    "clf_pctr = Perceptron(\n",
    "    class_weight='balanced'\n",
    "    )\n",
    "clf_pctr = clf_pctr.fit(X,y)\n",
    "score_pctr = cross_val_score(clf_pctr, X, y, cv=5).mean()\n",
    "print(score_pctr)"
   ]
  },
  {
   "cell_type": "code",
   "execution_count": 57,
   "metadata": {
    "collapsed": true
   },
   "outputs": [],
   "source": [
    "#K Neareast Neighbours"
   ]
  },
  {
   "cell_type": "code",
   "execution_count": 58,
   "metadata": {},
   "outputs": [
    {
     "name": "stdout",
     "output_type": "stream",
     "text": [
      "0.801857048156\n"
     ]
    }
   ],
   "source": [
    "clf_knn = KNeighborsClassifier(\n",
    "    n_neighbors=10,\n",
    "    weights='distance'\n",
    "    )\n",
    "clf_knn = clf_knn.fit(X,y)\n",
    "score_knn = cross_val_score(clf_knn, X, y, cv=5).mean()\n",
    "print(score_knn)"
   ]
  },
  {
   "cell_type": "code",
   "execution_count": 59,
   "metadata": {
    "collapsed": true
   },
   "outputs": [],
   "source": [
    "#Support Vector Machine"
   ]
  },
  {
   "cell_type": "code",
   "execution_count": 60,
   "metadata": {},
   "outputs": [
    {
     "name": "stdout",
     "output_type": "stream",
     "text": [
      "0.824531965886\n"
     ]
    }
   ],
   "source": [
    "clf_svm = svm.SVC(\n",
    "    class_weight='balanced'\n",
    "    )\n",
    "clf_svm.fit(X, y)\n",
    "score_svm = cross_val_score(clf_svm, X, y, cv=5).mean()\n",
    "print(score_svm)"
   ]
  },
  {
   "cell_type": "code",
   "execution_count": 61,
   "metadata": {
    "collapsed": true
   },
   "outputs": [],
   "source": [
    "#Bagging"
   ]
  },
  {
   "cell_type": "code",
   "execution_count": 62,
   "metadata": {},
   "outputs": [
    {
     "name": "stdout",
     "output_type": "stream",
     "text": [
      "0.806179775281\n"
     ]
    }
   ],
   "source": [
    "bagging = BaggingClassifier(\n",
    "    KNeighborsClassifier(\n",
    "        n_neighbors=2,\n",
    "        weights='distance'\n",
    "        ),\n",
    "    oob_score=True,\n",
    "    max_samples=0.5,\n",
    "    max_features=1.0\n",
    "    )\n",
    "clf_bag = bagging.fit(X,y)\n",
    "score_bag = clf_bag.oob_score_\n",
    "print(score_bag)"
   ]
  },
  {
   "cell_type": "code",
   "execution_count": 63,
   "metadata": {
    "collapsed": true
   },
   "outputs": [],
   "source": [
    "#Decision Tree"
   ]
  },
  {
   "cell_type": "code",
   "execution_count": 64,
   "metadata": {},
   "outputs": [
    {
     "name": "stdout",
     "output_type": "stream",
     "text": [
      "0.81332331638\n"
     ]
    }
   ],
   "source": [
    "clf_tree = tree.DecisionTreeClassifier(\n",
    "    #max_depth=3,\\\n",
    "    class_weight=\"balanced\",\\\n",
    "    min_weight_fraction_leaf=0.01\\\n",
    "    )\n",
    "clf_tree = clf_tree.fit(X,y)\n",
    "score_tree = cross_val_score(clf_tree, X, y, cv=5).mean()\n",
    "print(score_tree)"
   ]
  },
  {
   "cell_type": "code",
   "execution_count": 65,
   "metadata": {
    "collapsed": true
   },
   "outputs": [],
   "source": [
    "#Random Forest"
   ]
  },
  {
   "cell_type": "code",
   "execution_count": 66,
   "metadata": {},
   "outputs": [
    {
     "name": "stdout",
     "output_type": "stream",
     "text": [
      "0.824452472909\n"
     ]
    }
   ],
   "source": [
    "clf_rf = RandomForestClassifier(\n",
    "    n_estimators=1000, \\\n",
    "    max_depth=None, \\\n",
    "    min_samples_split=10 \\\n",
    "    #class_weight=\"balanced\", \\\n",
    "    #min_weight_fraction_leaf=0.02 \\\n",
    "    )\n",
    "clf_rf = clf_rf.fit(X,y)\n",
    "score_rf = cross_val_score(clf_rf, X, y, cv=5).mean()\n",
    "print(score_rf)"
   ]
  },
  {
   "cell_type": "code",
   "execution_count": 125,
   "metadata": {},
   "outputs": [
    {
     "data": {
      "text/plain": [
       "array([0, 0, 0, 0, 0, 0, 0, 1, 0, 0, 1, 0, 0, 1, 1, 0, 0, 0, 1, 0, 0, 0, 0,\n",
       "       0, 0, 0, 0, 0, 0, 1, 0, 0, 0, 0, 1, 0, 0, 0, 1, 0, 1, 0, 1, 1, 0, 1,\n",
       "       0, 0, 1, 0, 0, 0, 1, 1, 1, 0, 0, 1, 1, 1, 0, 0, 1, 0, 0, 1, 0, 1, 0,\n",
       "       0, 1, 0, 0, 0, 0, 0, 0, 1, 0, 0, 0, 0, 0, 0, 0, 0, 0, 1, 0, 0, 1, 0,\n",
       "       0, 0, 1, 0, 0, 0, 0, 1, 1, 0, 0, 0, 1, 0, 0, 0, 0, 0, 0, 0, 0, 0, 1,\n",
       "       1, 0, 0, 0, 0, 0, 1, 0, 0, 1, 1, 1, 0, 0, 1, 0, 0, 0, 0, 0, 0, 0, 0,\n",
       "       0, 0, 0, 0, 0, 1, 1, 0, 0, 0, 0, 0, 0, 1, 0, 1, 0, 0, 0, 0, 0, 1, 0,\n",
       "       0, 0, 0, 0, 0, 0, 1, 0, 0, 0, 1, 1, 0, 0, 1, 0, 1, 1, 0, 0, 0, 1, 1,\n",
       "       1, 1, 1, 1, 0, 0, 1, 0, 0, 1, 0, 0, 0, 1, 0, 1, 0, 1, 0, 1, 0, 0, 0,\n",
       "       0, 0, 1, 0, 0, 1, 0, 0, 0, 0, 1, 0, 1, 0, 0, 1, 0, 1, 0, 0, 0, 0, 0,\n",
       "       0, 0, 0, 1, 0, 0, 0, 0, 0, 0, 0, 0, 0, 0, 0, 0, 0, 0, 1, 0, 0, 0, 0,\n",
       "       1, 1, 1, 0, 0, 1, 0, 0, 0, 1, 1, 0, 0, 0, 0, 0, 0, 0, 1, 0, 1, 0, 0,\n",
       "       0, 0, 1, 0, 1, 0, 0, 0, 0, 1, 1, 1, 0, 0, 1, 1, 1, 0, 1, 0, 0, 0, 0,\n",
       "       0, 0, 0, 0, 1, 0, 0, 0, 1, 0, 0, 0, 1, 0, 0, 0, 1, 0, 0, 0, 0, 0, 1,\n",
       "       1, 0, 0, 0, 0, 0, 1, 0, 0, 0, 0, 0, 0, 1, 0, 0, 0, 0, 1, 1, 0, 1, 1,\n",
       "       0, 0, 0, 0, 0, 0, 0, 1, 0, 1, 0, 0, 0, 1, 0, 1, 1, 1, 0, 0, 0, 0, 1,\n",
       "       0, 0, 1, 0, 0, 1, 1, 0, 0, 0, 0, 1, 1, 0, 1, 0, 1, 0, 1, 0, 0, 1, 1,\n",
       "       1, 0, 0, 1, 0, 0, 0, 0, 0, 0, 1, 0, 0, 0, 0, 0, 1, 0, 0, 0, 1, 0, 0,\n",
       "       0, 1, 1, 0, 1, 1, 0, 0, 0, 0, 0, 0, 0, 0, 1, 1, 1, 1, 1, 1, 1, 0, 0,\n",
       "       0, 1, 0, 0, 0, 1, 0, 0, 0, 0, 0, 0, 0, 0, 1, 0, 0, 0, 0, 0, 1, 1, 0,\n",
       "       0, 0, 1, 0, 1, 0, 0, 0, 1, 1, 1, 1, 0, 1, 0, 0, 1, 1, 0, 1, 0, 0, 0,\n",
       "       0, 0, 1, 0, 0, 1, 0, 0, 0, 0, 0, 0, 0, 0, 0, 0, 0, 0, 0, 0, 0, 1, 1,\n",
       "       0, 0, 0, 1, 0, 0, 0, 1, 1, 1, 0, 0, 0, 1, 0, 0, 0, 0, 0, 0, 1, 0, 0,\n",
       "       0, 0, 0, 0, 0, 0, 0, 0, 0, 0, 0, 1, 1, 0, 0, 0, 1, 1, 0, 0, 1, 0, 0,\n",
       "       0, 0, 0, 0, 0, 0, 0, 1, 0, 0, 0, 1, 1, 0, 1, 0, 1, 1, 1, 0, 0, 1, 1,\n",
       "       1, 0, 0, 0, 0, 0, 0, 1, 0, 0, 1, 0, 0, 0, 1, 0, 0, 0, 0, 1, 0, 1, 1,\n",
       "       0, 1, 0, 0, 1, 0, 0, 0, 1, 0, 0, 1, 1, 0, 0, 0, 0, 0, 0, 0, 0, 0, 1,\n",
       "       1, 1, 0, 0, 1, 0, 0, 0, 0, 0, 1, 1, 1, 0, 1, 0, 0, 1, 0, 0, 0, 0, 0,\n",
       "       0, 0, 0, 0, 0, 1, 0, 1, 0, 1, 1, 0, 0, 0, 1, 0, 0, 0, 0, 0, 1, 0, 0,\n",
       "       0, 1, 0, 1, 0, 1, 0, 0, 1, 0, 0, 0, 1, 0, 1, 0, 0, 1, 1, 1, 1, 0, 0,\n",
       "       0, 1, 0, 0, 1, 1, 1, 0, 0, 0, 1, 0, 0, 1, 1, 0, 1, 1, 0, 0, 0, 0], dtype=int64)"
      ]
     },
     "execution_count": 125,
     "metadata": {},
     "output_type": "execute_result"
    }
   ],
   "source": [
    "clf_rf.predict(X)"
   ]
  },
  {
   "cell_type": "code",
   "execution_count": 123,
   "metadata": {},
   "outputs": [
    {
     "data": {
      "text/html": [
       "<div>\n",
       "<style scoped>\n",
       "    .dataframe tbody tr th:only-of-type {\n",
       "        vertical-align: middle;\n",
       "    }\n",
       "\n",
       "    .dataframe tbody tr th {\n",
       "        vertical-align: top;\n",
       "    }\n",
       "\n",
       "    .dataframe thead th {\n",
       "        text-align: right;\n",
       "    }\n",
       "</style>\n",
       "<table border=\"1\" class=\"dataframe\">\n",
       "  <thead>\n",
       "    <tr style=\"text-align: right;\">\n",
       "      <th></th>\n",
       "      <th>PassengerId</th>\n",
       "      <th>Pclass</th>\n",
       "      <th>Name</th>\n",
       "      <th>Sex</th>\n",
       "      <th>Age</th>\n",
       "      <th>SibSp</th>\n",
       "      <th>Parch</th>\n",
       "      <th>Ticket</th>\n",
       "      <th>Fare</th>\n",
       "      <th>Cabin</th>\n",
       "      <th>...</th>\n",
       "      <th>Deck</th>\n",
       "      <th>Ttype</th>\n",
       "      <th>Title</th>\n",
       "      <th>Fare_cat</th>\n",
       "      <th>Bad_ticket</th>\n",
       "      <th>Young</th>\n",
       "      <th>Shared_ticket</th>\n",
       "      <th>Ticket_group</th>\n",
       "      <th>Fare_eff</th>\n",
       "      <th>Fare_eff_cat</th>\n",
       "    </tr>\n",
       "  </thead>\n",
       "  <tbody>\n",
       "    <tr>\n",
       "      <th>0</th>\n",
       "      <td>892</td>\n",
       "      <td>3</td>\n",
       "      <td>Kelly, Mr. James</td>\n",
       "      <td>1</td>\n",
       "      <td>34.5</td>\n",
       "      <td>0</td>\n",
       "      <td>0</td>\n",
       "      <td>330911</td>\n",
       "      <td>7.8292</td>\n",
       "      <td>NaN</td>\n",
       "      <td>...</td>\n",
       "      <td>8</td>\n",
       "      <td>3</td>\n",
       "      <td>Mr</td>\n",
       "      <td>0</td>\n",
       "      <td>True</td>\n",
       "      <td>False</td>\n",
       "      <td>0</td>\n",
       "      <td>1</td>\n",
       "      <td>7.82920</td>\n",
       "      <td>1</td>\n",
       "    </tr>\n",
       "    <tr>\n",
       "      <th>1</th>\n",
       "      <td>893</td>\n",
       "      <td>3</td>\n",
       "      <td>Wilkes, Mrs. James (Ellen Needs)</td>\n",
       "      <td>0</td>\n",
       "      <td>47.0</td>\n",
       "      <td>1</td>\n",
       "      <td>0</td>\n",
       "      <td>363272</td>\n",
       "      <td>7.0000</td>\n",
       "      <td>NaN</td>\n",
       "      <td>...</td>\n",
       "      <td>8</td>\n",
       "      <td>3</td>\n",
       "      <td>Mrs</td>\n",
       "      <td>0</td>\n",
       "      <td>True</td>\n",
       "      <td>False</td>\n",
       "      <td>0</td>\n",
       "      <td>1</td>\n",
       "      <td>7.00000</td>\n",
       "      <td>1</td>\n",
       "    </tr>\n",
       "    <tr>\n",
       "      <th>2</th>\n",
       "      <td>894</td>\n",
       "      <td>2</td>\n",
       "      <td>Myles, Mr. Thomas Francis</td>\n",
       "      <td>1</td>\n",
       "      <td>62.0</td>\n",
       "      <td>0</td>\n",
       "      <td>0</td>\n",
       "      <td>240276</td>\n",
       "      <td>9.6875</td>\n",
       "      <td>NaN</td>\n",
       "      <td>...</td>\n",
       "      <td>8</td>\n",
       "      <td>2</td>\n",
       "      <td>Mr</td>\n",
       "      <td>1</td>\n",
       "      <td>False</td>\n",
       "      <td>False</td>\n",
       "      <td>0</td>\n",
       "      <td>1</td>\n",
       "      <td>9.68750</td>\n",
       "      <td>1</td>\n",
       "    </tr>\n",
       "    <tr>\n",
       "      <th>3</th>\n",
       "      <td>895</td>\n",
       "      <td>3</td>\n",
       "      <td>Wirz, Mr. Albert</td>\n",
       "      <td>1</td>\n",
       "      <td>27.0</td>\n",
       "      <td>0</td>\n",
       "      <td>0</td>\n",
       "      <td>315154</td>\n",
       "      <td>8.6625</td>\n",
       "      <td>NaN</td>\n",
       "      <td>...</td>\n",
       "      <td>8</td>\n",
       "      <td>3</td>\n",
       "      <td>Mr</td>\n",
       "      <td>0</td>\n",
       "      <td>True</td>\n",
       "      <td>True</td>\n",
       "      <td>0</td>\n",
       "      <td>1</td>\n",
       "      <td>8.66250</td>\n",
       "      <td>1</td>\n",
       "    </tr>\n",
       "    <tr>\n",
       "      <th>4</th>\n",
       "      <td>896</td>\n",
       "      <td>3</td>\n",
       "      <td>Hirvonen, Mrs. Alexander (Helga E Lindqvist)</td>\n",
       "      <td>0</td>\n",
       "      <td>22.0</td>\n",
       "      <td>1</td>\n",
       "      <td>1</td>\n",
       "      <td>3101298</td>\n",
       "      <td>12.2875</td>\n",
       "      <td>NaN</td>\n",
       "      <td>...</td>\n",
       "      <td>8</td>\n",
       "      <td>3</td>\n",
       "      <td>Mrs</td>\n",
       "      <td>1</td>\n",
       "      <td>True</td>\n",
       "      <td>True</td>\n",
       "      <td>1</td>\n",
       "      <td>2</td>\n",
       "      <td>6.14375</td>\n",
       "      <td>1</td>\n",
       "    </tr>\n",
       "  </tbody>\n",
       "</table>\n",
       "<p>5 rows × 27 columns</p>\n",
       "</div>"
      ],
      "text/plain": [
       "   PassengerId  Pclass                                          Name  Sex  \\\n",
       "0          892       3                              Kelly, Mr. James    1   \n",
       "1          893       3              Wilkes, Mrs. James (Ellen Needs)    0   \n",
       "2          894       2                     Myles, Mr. Thomas Francis    1   \n",
       "3          895       3                              Wirz, Mr. Albert    1   \n",
       "4          896       3  Hirvonen, Mrs. Alexander (Helga E Lindqvist)    0   \n",
       "\n",
       "    Age  SibSp  Parch   Ticket     Fare Cabin     ...       Deck  Ttype  \\\n",
       "0  34.5      0      0   330911   7.8292   NaN     ...          8      3   \n",
       "1  47.0      1      0   363272   7.0000   NaN     ...          8      3   \n",
       "2  62.0      0      0   240276   9.6875   NaN     ...          8      2   \n",
       "3  27.0      0      0   315154   8.6625   NaN     ...          8      3   \n",
       "4  22.0      1      1  3101298  12.2875   NaN     ...          8      3   \n",
       "\n",
       "   Title  Fare_cat  Bad_ticket  Young  Shared_ticket  Ticket_group Fare_eff  \\\n",
       "0     Mr         0        True  False              0             1  7.82920   \n",
       "1    Mrs         0        True  False              0             1  7.00000   \n",
       "2     Mr         1       False  False              0             1  9.68750   \n",
       "3     Mr         0        True   True              0             1  8.66250   \n",
       "4    Mrs         1        True   True              1             2  6.14375   \n",
       "\n",
       "  Fare_eff_cat  \n",
       "0            1  \n",
       "1            1  \n",
       "2            1  \n",
       "3            1  \n",
       "4            1  \n",
       "\n",
       "[5 rows x 27 columns]"
      ]
     },
     "execution_count": 123,
     "metadata": {},
     "output_type": "execute_result"
    }
   ],
   "source": [
    "test.head()"
   ]
  },
  {
   "cell_type": "code",
   "execution_count": null,
   "metadata": {
    "collapsed": true
   },
   "outputs": [],
   "source": [
    "test = test.fillna(train.mean())\n",
    "test.loc[:,'Sex'] = test.loc[:,'Sex'].map( {'female': 0, 'male': 1} ).astype(int)"
   ]
  },
  {
   "cell_type": "code",
   "execution_count": 126,
   "metadata": {
    "collapsed": true
   },
   "outputs": [],
   "source": [
    "output = list(zip(test.loc[:,'PassengerId'],clf_rf.predict(X)))"
   ]
  },
  {
   "cell_type": "code",
   "execution_count": 127,
   "metadata": {
    "collapsed": true
   },
   "outputs": [],
   "source": [
    "submit = pd.DataFrame(output,columns=[\"PassengerId\", \"Survived\"])"
   ]
  },
  {
   "cell_type": "code",
   "execution_count": 130,
   "metadata": {
    "collapsed": true
   },
   "outputs": [],
   "source": [
    "submit.to_csv('predictions.csv',index=False)"
   ]
  },
  {
   "cell_type": "code",
   "execution_count": 129,
   "metadata": {},
   "outputs": [
    {
     "data": {
      "text/plain": [
       "'C:\\\\Users\\\\akosciansky\\\\Desktop\\\\Jupyter Scripts'"
      ]
     },
     "execution_count": 129,
     "metadata": {},
     "output_type": "execute_result"
    }
   ],
   "source": [
    "pwd"
   ]
  },
  {
   "cell_type": "code",
   "execution_count": null,
   "metadata": {
    "collapsed": true
   },
   "outputs": [],
   "source": []
  },
  {
   "cell_type": "code",
   "execution_count": 67,
   "metadata": {
    "collapsed": true
   },
   "outputs": [],
   "source": [
    "#Extremely Randomised Trees"
   ]
  },
  {
   "cell_type": "code",
   "execution_count": 68,
   "metadata": {},
   "outputs": [
    {
     "name": "stdout",
     "output_type": "stream",
     "text": [
      "0.823053871511\n"
     ]
    }
   ],
   "source": [
    "clf_ext = ExtraTreesClassifier(\n",
    "    max_features='auto',\n",
    "    bootstrap=True,\n",
    "    oob_score=True,\n",
    "    n_estimators=1000,\n",
    "    max_depth=None,\n",
    "    min_samples_split=10\n",
    "    #class_weight=\"balanced\",\n",
    "    #min_weight_fraction_leaf=0.02\n",
    "    )\n",
    "clf_ext = clf_ext.fit(X,y)\n",
    "score_ext = cross_val_score(clf_ext, X, y, cv=5).mean()\n",
    "print(score_ext)"
   ]
  },
  {
   "cell_type": "code",
   "execution_count": 69,
   "metadata": {
    "collapsed": true
   },
   "outputs": [],
   "source": [
    "#Gradient Boosting"
   ]
  },
  {
   "cell_type": "code",
   "execution_count": 70,
   "metadata": {},
   "outputs": [
    {
     "name": "stdout",
     "output_type": "stream",
     "text": [
      "0.816011338577\n"
     ]
    }
   ],
   "source": [
    "import warnings\n",
    "warnings.filterwarnings(\"ignore\")\n",
    "\n",
    "clf_gb = GradientBoostingClassifier(\n",
    "            #loss='exponential',\n",
    "            n_estimators=1000,\n",
    "            learning_rate=0.1,\n",
    "            max_depth=3,\n",
    "            subsample=0.5,\n",
    "            random_state=0).fit(X, y)\n",
    "clf_gb.fit(X,y)\n",
    "score_gb = cross_val_score(clf_gb, X, y, cv=5).mean()\n",
    "print(score_gb)"
   ]
  },
  {
   "cell_type": "code",
   "execution_count": 71,
   "metadata": {
    "collapsed": true
   },
   "outputs": [],
   "source": [
    "#Ada Boost"
   ]
  },
  {
   "cell_type": "code",
   "execution_count": 72,
   "metadata": {},
   "outputs": [
    {
     "name": "stdout",
     "output_type": "stream",
     "text": [
      "0.807729050492\n"
     ]
    }
   ],
   "source": [
    "clf_ada = AdaBoostClassifier(n_estimators=400, learning_rate=0.1)\n",
    "clf_ada.fit(X,y)\n",
    "score_ada = cross_val_score(clf_ada, X, y, cv=5).mean()\n",
    "print(score_ada)"
   ]
  },
  {
   "cell_type": "code",
   "execution_count": 73,
   "metadata": {
    "collapsed": true
   },
   "outputs": [],
   "source": [
    "#eXtreme Gradient Boosting"
   ]
  },
  {
   "cell_type": "markdown",
   "metadata": {},
   "source": [
    "clf_xgb = xgb.XGBClassifier(\n",
    "    max_depth=2,\n",
    "    n_estimators=500,\n",
    "    subsample=0.5,\n",
    "    learning_rate=0.1\n",
    "    )\n",
    "clf_xgb.fit(X,y)\n",
    "score_xgb = cross_val_score(clf_xgb, X, y, cv=5).mean()\n",
    "print(score_xgb)"
   ]
  },
  {
   "cell_type": "code",
   "execution_count": 77,
   "metadata": {},
   "outputs": [],
   "source": [
    "models = pd.DataFrame({\n",
    "        'Model' : ['Logistic Regression 1', 'Logistic Regression 2', 'Perceptron', 'KNN', 'SVM', 'Bagging', 'Decision Tree',\n",
    "                   'Random Forest', 'Extra Tree', 'Gradient Boosting', 'ADA Boosting'],\n",
    "        'Score' : [score_log1, score_log2, score_pctr, score_knn, score_svm, score_bag, score_tree, score_rf, score_ext, score_gb, \n",
    "                    score_ada]  \n",
    "})\n",
    "\n",
    "models = models.sort_values(by='Score', axis=0, ascending=False, inplace=False, kind='quicksort', na_position='last')"
   ]
  },
  {
   "cell_type": "code",
   "execution_count": 78,
   "metadata": {},
   "outputs": [
    {
     "data": {
      "text/html": [
       "<div>\n",
       "<style scoped>\n",
       "    .dataframe tbody tr th:only-of-type {\n",
       "        vertical-align: middle;\n",
       "    }\n",
       "\n",
       "    .dataframe tbody tr th {\n",
       "        vertical-align: top;\n",
       "    }\n",
       "\n",
       "    .dataframe thead th {\n",
       "        text-align: right;\n",
       "    }\n",
       "</style>\n",
       "<table border=\"1\" class=\"dataframe\">\n",
       "  <thead>\n",
       "    <tr style=\"text-align: right;\">\n",
       "      <th></th>\n",
       "      <th>Model</th>\n",
       "      <th>Score</th>\n",
       "    </tr>\n",
       "  </thead>\n",
       "  <tbody>\n",
       "    <tr>\n",
       "      <th>4</th>\n",
       "      <td>SVM</td>\n",
       "      <td>0.824532</td>\n",
       "    </tr>\n",
       "    <tr>\n",
       "      <th>7</th>\n",
       "      <td>Random Forest</td>\n",
       "      <td>0.824452</td>\n",
       "    </tr>\n",
       "    <tr>\n",
       "      <th>8</th>\n",
       "      <td>Extra Tree</td>\n",
       "      <td>0.823054</td>\n",
       "    </tr>\n",
       "    <tr>\n",
       "      <th>9</th>\n",
       "      <td>Gradient Boosting</td>\n",
       "      <td>0.816011</td>\n",
       "    </tr>\n",
       "    <tr>\n",
       "      <th>6</th>\n",
       "      <td>Decision Tree</td>\n",
       "      <td>0.813323</td>\n",
       "    </tr>\n",
       "    <tr>\n",
       "      <th>0</th>\n",
       "      <td>Logistic Regression 1</td>\n",
       "      <td>0.813202</td>\n",
       "    </tr>\n",
       "    <tr>\n",
       "      <th>10</th>\n",
       "      <td>ADA Boosting</td>\n",
       "      <td>0.807729</td>\n",
       "    </tr>\n",
       "    <tr>\n",
       "      <th>5</th>\n",
       "      <td>Bagging</td>\n",
       "      <td>0.806180</td>\n",
       "    </tr>\n",
       "    <tr>\n",
       "      <th>1</th>\n",
       "      <td>Logistic Regression 2</td>\n",
       "      <td>0.804902</td>\n",
       "    </tr>\n",
       "    <tr>\n",
       "      <th>3</th>\n",
       "      <td>KNN</td>\n",
       "      <td>0.801857</td>\n",
       "    </tr>\n",
       "    <tr>\n",
       "      <th>2</th>\n",
       "      <td>Perceptron</td>\n",
       "      <td>0.781077</td>\n",
       "    </tr>\n",
       "  </tbody>\n",
       "</table>\n",
       "</div>"
      ],
      "text/plain": [
       "                    Model     Score\n",
       "4                     SVM  0.824532\n",
       "7           Random Forest  0.824452\n",
       "8              Extra Tree  0.823054\n",
       "9       Gradient Boosting  0.816011\n",
       "6           Decision Tree  0.813323\n",
       "0   Logistic Regression 1  0.813202\n",
       "10           ADA Boosting  0.807729\n",
       "5                 Bagging  0.806180\n",
       "1   Logistic Regression 2  0.804902\n",
       "3                     KNN  0.801857\n",
       "2              Perceptron  0.781077"
      ]
     },
     "execution_count": 78,
     "metadata": {},
     "output_type": "execute_result"
    }
   ],
   "source": [
    "models"
   ]
  },
  {
   "cell_type": "code",
   "execution_count": 79,
   "metadata": {
    "collapsed": true
   },
   "outputs": [],
   "source": [
    "#Examining/Optimising one classifier in more detail"
   ]
  },
  {
   "cell_type": "code",
   "execution_count": 80,
   "metadata": {},
   "outputs": [
    {
     "name": "stdout",
     "output_type": "stream",
     "text": [
      "0.823033707865\n",
      "{'criterion': 'gini', 'min_samples_leaf': 5, 'min_samples_split': 10, 'n_estimators': 50}\n"
     ]
    }
   ],
   "source": [
    "clf_ext = ExtraTreesClassifier(max_features='auto',bootstrap=True,oob_score=True)\n",
    "param_grid = { \"criterion\" : [\"gini\", \"entropy\"],\n",
    "              \"min_samples_leaf\" : [1, 5, 10],\n",
    "              \"min_samples_split\" : [8, 10, 12],\n",
    "              \"n_estimators\": [20, 50, 100]}\n",
    "gs = GridSearchCV(estimator=clf_ext, param_grid=param_grid, scoring='accuracy', cv=3)\n",
    "gs = gs.fit(X,y)\n",
    "print(gs.best_score_)\n",
    "print(gs.best_params_)"
   ]
  },
  {
   "cell_type": "code",
   "execution_count": 81,
   "metadata": {
    "collapsed": true
   },
   "outputs": [],
   "source": [
    "#Use these results to increase the performance"
   ]
  },
  {
   "cell_type": "code",
   "execution_count": 82,
   "metadata": {},
   "outputs": [
    {
     "name": "stdout",
     "output_type": "stream",
     "text": [
      "0.830056179775\n"
     ]
    },
    {
     "data": {
      "text/html": [
       "<div>\n",
       "<style scoped>\n",
       "    .dataframe tbody tr th:only-of-type {\n",
       "        vertical-align: middle;\n",
       "    }\n",
       "\n",
       "    .dataframe tbody tr th {\n",
       "        vertical-align: top;\n",
       "    }\n",
       "\n",
       "    .dataframe thead th {\n",
       "        text-align: right;\n",
       "    }\n",
       "</style>\n",
       "<table border=\"1\" class=\"dataframe\">\n",
       "  <thead>\n",
       "    <tr style=\"text-align: right;\">\n",
       "      <th></th>\n",
       "      <th>0</th>\n",
       "      <th>1</th>\n",
       "    </tr>\n",
       "  </thead>\n",
       "  <tbody>\n",
       "    <tr>\n",
       "      <th>0</th>\n",
       "      <td>Sex</td>\n",
       "      <td>0.545490</td>\n",
       "    </tr>\n",
       "    <tr>\n",
       "      <th>1</th>\n",
       "      <td>Pclass</td>\n",
       "      <td>0.139256</td>\n",
       "    </tr>\n",
       "    <tr>\n",
       "      <th>2</th>\n",
       "      <td>Cabin_known</td>\n",
       "      <td>0.083138</td>\n",
       "    </tr>\n",
       "    <tr>\n",
       "      <th>3</th>\n",
       "      <td>Large_Family</td>\n",
       "      <td>0.064371</td>\n",
       "    </tr>\n",
       "    <tr>\n",
       "      <th>4</th>\n",
       "      <td>Shared_ticket</td>\n",
       "      <td>0.058091</td>\n",
       "    </tr>\n",
       "    <tr>\n",
       "      <th>7</th>\n",
       "      <td>Child</td>\n",
       "      <td>0.054962</td>\n",
       "    </tr>\n",
       "    <tr>\n",
       "      <th>5</th>\n",
       "      <td>Young</td>\n",
       "      <td>0.027362</td>\n",
       "    </tr>\n",
       "    <tr>\n",
       "      <th>6</th>\n",
       "      <td>Alone</td>\n",
       "      <td>0.027329</td>\n",
       "    </tr>\n",
       "  </tbody>\n",
       "</table>\n",
       "</div>"
      ],
      "text/plain": [
       "               0         1\n",
       "0            Sex  0.545490\n",
       "1         Pclass  0.139256\n",
       "2    Cabin_known  0.083138\n",
       "3   Large_Family  0.064371\n",
       "4  Shared_ticket  0.058091\n",
       "7          Child  0.054962\n",
       "5          Young  0.027362\n",
       "6          Alone  0.027329"
      ]
     },
     "execution_count": 82,
     "metadata": {},
     "output_type": "execute_result"
    }
   ],
   "source": [
    "clf_ext = ExtraTreesClassifier(\n",
    "    max_features='auto',\n",
    "    bootstrap=True,\n",
    "    oob_score=True,\n",
    "    criterion='gini',\n",
    "    min_samples_leaf=5,\n",
    "    min_samples_split=8,\n",
    "    n_estimators=50\n",
    "    )\n",
    "clf_ext = clf_ext.fit(X,y)\n",
    "score_ext = clf_ext.score(X,y)\n",
    "print(score_ext)\n",
    "pd.DataFrame(list(zip(X.columns, np.transpose(clf_ext.feature_importances_))) \\\n",
    "            ).sort_values(1, ascending=False)"
   ]
  },
  {
   "cell_type": "code",
   "execution_count": 83,
   "metadata": {},
   "outputs": [
    {
     "data": {
      "text/plain": [
       "<matplotlib.axes._subplots.AxesSubplot at 0xb4023f70f0>"
      ]
     },
     "execution_count": 83,
     "metadata": {},
     "output_type": "execute_result"
    },
    {
     "data": {
      "image/png": "[encoded data removed]",
      "text/plain": [
       "<matplotlib.figure.Figure at 0xb47fa3a438>"
      ]
     },
     "metadata": {},
     "output_type": "display_data"
    }
   ],
   "source": [
    "cnf_matrix = confusion_matrix(clf_ext.predict(X_test),y_test)\n",
    "sns.heatmap(cnf_matrix, annot=True)"
   ]
  },
  {
   "cell_type": "code",
   "execution_count": 84,
   "metadata": {},
   "outputs": [],
   "source": [
    "#Model validation with cross-validation"
   ]
  },
  {
   "cell_type": "code",
   "execution_count": 85,
   "metadata": {},
   "outputs": [
    {
     "name": "stdout",
     "output_type": "stream",
     "text": [
      "[ 0.7972028   0.85314685  0.79020979  0.81690141  0.84397163]\n",
      "Mean score = 0.820, Std deviation = 0.025\n"
     ]
    }
   ],
   "source": [
    "clf = clf_ext\n",
    "scores = cross_val_score(clf, X, y, cv=5)\n",
    "print(scores)\n",
    "print(\"Mean score = %.3f, Std deviation = %.3f\"%(np.mean(scores),np.std(scores)))"
   ]
  },
  {
   "cell_type": "code",
   "execution_count": 86,
   "metadata": {},
   "outputs": [
    {
     "data": {
      "text/plain": [
       "(0, 0.5)"
      ]
     },
     "execution_count": 86,
     "metadata": {},
     "output_type": "execute_result"
    },
    {
     "data": {
      "image/png": "[encoded data removed]",
      "text/plain": [
       "<matplotlib.figure.Figure at 0xb47fa36f60>"
      ]
     },
     "metadata": {},
     "output_type": "display_data"
    }
   ],
   "source": [
    "plt.figure(figsize=[20,0.5])\n",
    "plt.subplot(121)\n",
    "sns.stripplot(scores, size=5)\n",
    "plt.xlim(0, 1)\n",
    "plt.ylim(0, 0.5)"
   ]
  },
  {
   "cell_type": "code",
   "execution_count": 87,
   "metadata": {
    "collapsed": true
   },
   "outputs": [],
   "source": [
    "#Model validation on test set"
   ]
  },
  {
   "cell_type": "code",
   "execution_count": 88,
   "metadata": {},
   "outputs": [
    {
     "name": "stdout",
     "output_type": "stream",
     "text": [
      "0.810055865922\n"
     ]
    }
   ],
   "source": [
    "score_ext_test = clf_ext.score(X_test,y_test)\n",
    "print(score_ext_test)"
   ]
  },
  {
   "cell_type": "code",
   "execution_count": 91,
   "metadata": {},
   "outputs": [
    {
     "data": {
      "text/html": [
       "<div>\n",
       "<style scoped>\n",
       "    .dataframe tbody tr th:only-of-type {\n",
       "        vertical-align: middle;\n",
       "    }\n",
       "\n",
       "    .dataframe tbody tr th {\n",
       "        vertical-align: top;\n",
       "    }\n",
       "\n",
       "    .dataframe thead th {\n",
       "        text-align: right;\n",
       "    }\n",
       "</style>\n",
       "<table border=\"1\" class=\"dataframe\">\n",
       "  <thead>\n",
       "    <tr style=\"text-align: right;\">\n",
       "      <th></th>\n",
       "      <th>Model</th>\n",
       "      <th>Score</th>\n",
       "    </tr>\n",
       "  </thead>\n",
       "  <tbody>\n",
       "    <tr>\n",
       "      <th>8</th>\n",
       "      <td>Extra Tree</td>\n",
       "      <td>0.830056</td>\n",
       "    </tr>\n",
       "    <tr>\n",
       "      <th>4</th>\n",
       "      <td>SVM</td>\n",
       "      <td>0.824532</td>\n",
       "    </tr>\n",
       "    <tr>\n",
       "      <th>7</th>\n",
       "      <td>Random Forest</td>\n",
       "      <td>0.824452</td>\n",
       "    </tr>\n",
       "    <tr>\n",
       "      <th>9</th>\n",
       "      <td>Gradient Boosting</td>\n",
       "      <td>0.816011</td>\n",
       "    </tr>\n",
       "    <tr>\n",
       "      <th>6</th>\n",
       "      <td>Decision Tree</td>\n",
       "      <td>0.813323</td>\n",
       "    </tr>\n",
       "    <tr>\n",
       "      <th>0</th>\n",
       "      <td>Logistic Regression 1</td>\n",
       "      <td>0.813202</td>\n",
       "    </tr>\n",
       "    <tr>\n",
       "      <th>10</th>\n",
       "      <td>ADA Boosting</td>\n",
       "      <td>0.807729</td>\n",
       "    </tr>\n",
       "    <tr>\n",
       "      <th>5</th>\n",
       "      <td>Bagging</td>\n",
       "      <td>0.806180</td>\n",
       "    </tr>\n",
       "    <tr>\n",
       "      <th>1</th>\n",
       "      <td>Logistic Regression 2</td>\n",
       "      <td>0.804902</td>\n",
       "    </tr>\n",
       "    <tr>\n",
       "      <th>3</th>\n",
       "      <td>KNN</td>\n",
       "      <td>0.801857</td>\n",
       "    </tr>\n",
       "    <tr>\n",
       "      <th>2</th>\n",
       "      <td>Perceptron</td>\n",
       "      <td>0.781077</td>\n",
       "    </tr>\n",
       "  </tbody>\n",
       "</table>\n",
       "</div>"
      ],
      "text/plain": [
       "                    Model     Score\n",
       "8              Extra Tree  0.830056\n",
       "4                     SVM  0.824532\n",
       "7           Random Forest  0.824452\n",
       "9       Gradient Boosting  0.816011\n",
       "6           Decision Tree  0.813323\n",
       "0   Logistic Regression 1  0.813202\n",
       "10           ADA Boosting  0.807729\n",
       "5                 Bagging  0.806180\n",
       "1   Logistic Regression 2  0.804902\n",
       "3                     KNN  0.801857\n",
       "2              Perceptron  0.781077"
      ]
     },
     "execution_count": 91,
     "metadata": {},
     "output_type": "execute_result"
    }
   ],
   "source": [
    "models = pd.DataFrame({\n",
    "        'Model' : ['Logistic Regression 1', 'Logistic Regression 2', 'Perceptron', 'KNN', 'SVM', 'Bagging', 'Decision Tree',\n",
    "                   'Random Forest', 'Extra Tree', 'Gradient Boosting', 'ADA Boosting'],\n",
    "        'Score' : [score_log1, score_log2, score_pctr, score_knn, score_svm, score_bag, score_tree, score_rf, score_ext, score_gb, \n",
    "                    score_ada]  \n",
    "})\n",
    "\n",
    "models = models.sort_values(by='Score', axis=0, ascending=False, inplace=False, kind='quicksort', na_position='last')\n",
    "models"
   ]
  },
  {
   "cell_type": "code",
   "execution_count": 92,
   "metadata": {
    "collapsed": true
   },
   "outputs": [],
   "source": [
    "#Feature importance by model"
   ]
  },
  {
   "cell_type": "code",
   "execution_count": 96,
   "metadata": {},
   "outputs": [
    {
     "data": {
      "text/html": [
       "<div>\n",
       "<style scoped>\n",
       "    .dataframe tbody tr th:only-of-type {\n",
       "        vertical-align: middle;\n",
       "    }\n",
       "\n",
       "    .dataframe tbody tr th {\n",
       "        vertical-align: top;\n",
       "    }\n",
       "\n",
       "    .dataframe thead th {\n",
       "        text-align: right;\n",
       "    }\n",
       "</style>\n",
       "<table border=\"1\" class=\"dataframe\">\n",
       "  <thead>\n",
       "    <tr style=\"text-align: right;\">\n",
       "      <th></th>\n",
       "      <th>Feature</th>\n",
       "      <th>Tree</th>\n",
       "      <th>RF</th>\n",
       "      <th>Extra</th>\n",
       "      <th>GB</th>\n",
       "      <th>Ada</th>\n",
       "      <th>Median</th>\n",
       "    </tr>\n",
       "  </thead>\n",
       "  <tbody>\n",
       "    <tr>\n",
       "      <th>0</th>\n",
       "      <td>Sex</td>\n",
       "      <td>0.635845</td>\n",
       "      <td>0.511019</td>\n",
       "      <td>0.545490</td>\n",
       "      <td>0.183324</td>\n",
       "      <td>0.1775</td>\n",
       "      <td>0.511019</td>\n",
       "    </tr>\n",
       "    <tr>\n",
       "      <th>1</th>\n",
       "      <td>Pclass</td>\n",
       "      <td>0.107525</td>\n",
       "      <td>0.156807</td>\n",
       "      <td>0.139256</td>\n",
       "      <td>0.227900</td>\n",
       "      <td>0.1600</td>\n",
       "      <td>0.156807</td>\n",
       "    </tr>\n",
       "    <tr>\n",
       "      <th>2</th>\n",
       "      <td>Cabin_known</td>\n",
       "      <td>0.066924</td>\n",
       "      <td>0.086898</td>\n",
       "      <td>0.083138</td>\n",
       "      <td>0.132607</td>\n",
       "      <td>0.0150</td>\n",
       "      <td>0.083138</td>\n",
       "    </tr>\n",
       "    <tr>\n",
       "      <th>3</th>\n",
       "      <td>Large_Family</td>\n",
       "      <td>0.096492</td>\n",
       "      <td>0.064366</td>\n",
       "      <td>0.064371</td>\n",
       "      <td>0.060627</td>\n",
       "      <td>0.1425</td>\n",
       "      <td>0.064371</td>\n",
       "    </tr>\n",
       "    <tr>\n",
       "      <th>7</th>\n",
       "      <td>Child</td>\n",
       "      <td>0.050168</td>\n",
       "      <td>0.062526</td>\n",
       "      <td>0.054962</td>\n",
       "      <td>0.067135</td>\n",
       "      <td>0.1475</td>\n",
       "      <td>0.062526</td>\n",
       "    </tr>\n",
       "    <tr>\n",
       "      <th>4</th>\n",
       "      <td>Shared_ticket</td>\n",
       "      <td>0.007203</td>\n",
       "      <td>0.047506</td>\n",
       "      <td>0.058091</td>\n",
       "      <td>0.124426</td>\n",
       "      <td>0.0975</td>\n",
       "      <td>0.058091</td>\n",
       "    </tr>\n",
       "    <tr>\n",
       "      <th>6</th>\n",
       "      <td>Alone</td>\n",
       "      <td>0.009925</td>\n",
       "      <td>0.040534</td>\n",
       "      <td>0.027329</td>\n",
       "      <td>0.086265</td>\n",
       "      <td>0.1725</td>\n",
       "      <td>0.040534</td>\n",
       "    </tr>\n",
       "    <tr>\n",
       "      <th>5</th>\n",
       "      <td>Young</td>\n",
       "      <td>0.025917</td>\n",
       "      <td>0.030343</td>\n",
       "      <td>0.027362</td>\n",
       "      <td>0.117715</td>\n",
       "      <td>0.0875</td>\n",
       "      <td>0.030343</td>\n",
       "    </tr>\n",
       "  </tbody>\n",
       "</table>\n",
       "</div>"
      ],
      "text/plain": [
       "         Feature      Tree        RF     Extra        GB     Ada    Median\n",
       "0            Sex  0.635845  0.511019  0.545490  0.183324  0.1775  0.511019\n",
       "1         Pclass  0.107525  0.156807  0.139256  0.227900  0.1600  0.156807\n",
       "2    Cabin_known  0.066924  0.086898  0.083138  0.132607  0.0150  0.083138\n",
       "3   Large_Family  0.096492  0.064366  0.064371  0.060627  0.1425  0.064371\n",
       "7          Child  0.050168  0.062526  0.054962  0.067135  0.1475  0.062526\n",
       "4  Shared_ticket  0.007203  0.047506  0.058091  0.124426  0.0975  0.058091\n",
       "6          Alone  0.009925  0.040534  0.027329  0.086265  0.1725  0.040534\n",
       "5          Young  0.025917  0.030343  0.027362  0.117715  0.0875  0.030343"
      ]
     },
     "execution_count": 96,
     "metadata": {},
     "output_type": "execute_result"
    }
   ],
   "source": [
    "summary = pd.DataFrame(list(zip(X.columns, \\\n",
    "    np.transpose(clf_tree.feature_importances_), \\\n",
    "    np.transpose(clf_rf.feature_importances_), \\\n",
    "    np.transpose(clf_ext.feature_importances_), \\\n",
    "    np.transpose(clf_gb.feature_importances_), \\\n",
    "    np.transpose(clf_ada.feature_importances_), \\\n",
    "    )), columns=['Feature','Tree','RF','Extra','GB','Ada'])\n",
    "\n",
    "summary['Median'] = summary.median(1)\n",
    "summary.sort_values('Median', ascending=False)"
   ]
  },
  {
   "cell_type": "code",
   "execution_count": 97,
   "metadata": {
    "collapsed": true
   },
   "outputs": [],
   "source": [
    "#Introduct Voting and use and average of all the different models"
   ]
  },
  {
   "cell_type": "code",
   "execution_count": 101,
   "metadata": {},
   "outputs": [
    {
     "name": "stdout",
     "output_type": "stream",
     "text": [
      "Voting: Accuracy: 0.82 (+/- 0.04)\n"
     ]
    }
   ],
   "source": [
    "clf_vote = VotingClassifier(\n",
    "    estimators=[\n",
    "        #('tree', clf_tree),\n",
    "        ('knn', clf_knn),\n",
    "        ('svm', clf_svm),\n",
    "        ('extra', clf_ext),\n",
    "       #('gb', clf_gb),\n",
    "        #('xgb', clf_xgb),\n",
    "        ('percep', clf_pctr),\n",
    "        ('logistic', clf_log),\n",
    "        #('RF', clf_rf),\n",
    "        ],\n",
    "    weights=[2,2,3,1,2],\n",
    "    voting='hard')\n",
    "clf_vote.fit(X,y)\n",
    "\n",
    "scores = cross_val_score(clf_vote, X, y, cv=5, scoring='accuracy')\n",
    "print(\"Voting: Accuracy: %0.2f (+/- %0.2f)\" % (scores.mean(), scores.std()))\n",
    "\n",
    "#for clf, label in zip(\n",
    "#    [clf_tree,clf_knn,clf_svm,clf_ext,clf_gb,clf_xgb,clf_pctr,clf_log,clf_rf,clf_bag,clf_vote],\n",
    "#    ['tree','knn','svm','extra','gb','xgb','percep','logistic','RF','Bag','Ensemble']):\n",
    "#    scores = cross_val_score(clf, X, y, cv=5, scoring='accuracy')\n",
    "#    print(\"Accuracy: %0.2f (+/- %0.2f) [%s]\" % (scores.mean(), scores.std(), label))"
   ]
  },
  {
   "cell_type": "code",
   "execution_count": 102,
   "metadata": {
    "collapsed": true
   },
   "outputs": [],
   "source": [
    "# adjust these methods to my notation:\n",
    "train = X\n",
    "\n",
    "# training and train/test split parameters\n",
    "ntrain = train.shape[0]\n",
    "ntest = test.shape[0]\n",
    "SEED = 0 # for reproducibility\n",
    "NFOLDS = 5 # set folds for out-of-fold prediction\n",
    "kf = KFold(n_splits=NFOLDS, random_state=SEED)\n",
    "\n",
    "# Class to extend the Sklearn classifier; this basically unifies the way we call each classifier \n",
    "class SklearnHelper(object):\n",
    "    def __init__(self, clf, seed=0, params=None):\n",
    "        params['random_state'] = seed\n",
    "        self.clf = clf(**params)\n",
    "\n",
    "    def train(self, x_train, y_train):\n",
    "        self.clf.fit(x_train, y_train)\n",
    "\n",
    "    def predict(self, x):\n",
    "        return self.clf.predict(x)\n",
    "    \n",
    "    def fit(self,x,y):\n",
    "        return self.clf.fit(x,y)"
   ]
  },
  {
   "cell_type": "code",
   "execution_count": 103,
   "metadata": {
    "collapsed": true
   },
   "outputs": [],
   "source": [
    "# function for out-of-fold prediction\n",
    "def get_oof(clf, x_train, y_train, x_test):\n",
    "    oof_train = np.zeros((ntrain,))\n",
    "    oof_test = np.zeros((ntest,))\n",
    "    oof_test_skf = np.empty((NFOLDS, ntest))\n",
    "    \n",
    "    # split data in NFOLDS training vs testing samples\n",
    "    for i, (train_index, test_index) in enumerate(kf.split(x_train)):\n",
    "        # select train and test sample\n",
    "        x_tr = x_train[train_index]\n",
    "        y_tr = y_train[train_index]\n",
    "        x_te = x_train[test_index]\n",
    "        \n",
    "        # train classifier on training sample\n",
    "        clf.train(x_tr, y_tr)\n",
    "        \n",
    "        # predict classifier for testing sample\n",
    "        oof_train[test_index] = clf.predict(x_te)\n",
    "        # predict classifier for original test sample\n",
    "        oof_test_skf[i, :] = clf.predict(x_test)\n",
    "    \n",
    "    # take the median of all NFOLD test sample predictions\n",
    "    # (changed from mean to preserve binary classification)\n",
    "    oof_test[:] = np.median(oof_test_skf,axis=0)\n",
    "    return oof_train.reshape(-1, 1), oof_test.reshape(-1, 1)"
   ]
  },
  {
   "cell_type": "code",
   "execution_count": 104,
   "metadata": {
    "collapsed": true
   },
   "outputs": [],
   "source": [
    "# Put in our parameters for selected classifiers\n",
    "# Random Forest parameters\n",
    "rf_params = {\n",
    "    'n_estimators': 500,\n",
    "     'warm_start': True, \n",
    "     #'max_features': 0.2,\n",
    "    'max_depth': 6,\n",
    "    'min_samples_leaf': 2,\n",
    "    'max_features' : 'sqrt',\n",
    "}\n",
    "\n",
    "# Extra Trees Parameters\n",
    "et_params = {\n",
    "    'n_estimators':500,\n",
    "    #'max_features': 0.5,\n",
    "    'max_depth': 8,\n",
    "    'min_samples_leaf': 2,\n",
    "}\n",
    "\n",
    "# AdaBoost parameters\n",
    "ada_params = {\n",
    "    'n_estimators': 500,\n",
    "    'learning_rate' : 0.75\n",
    "}\n",
    "\n",
    "# Gradient Boosting parameters\n",
    "gb_params = {\n",
    "    'n_estimators': 500,\n",
    "     #'max_features': 0.2,\n",
    "    'max_depth': 5,\n",
    "    'min_samples_leaf': 2,\n",
    "}\n",
    "\n",
    "# Support Vector Classifier parameters \n",
    "svc_params = {\n",
    "    'kernel' : 'linear',\n",
    "    'C' : 0.025\n",
    "    }"
   ]
  },
  {
   "cell_type": "code",
   "execution_count": 105,
   "metadata": {
    "collapsed": true
   },
   "outputs": [],
   "source": [
    "# Create objects for each classifier\n",
    "rf = SklearnHelper(clf=RandomForestClassifier, seed=SEED, params=rf_params)\n",
    "et = SklearnHelper(clf=ExtraTreesClassifier, seed=SEED, params=et_params)\n",
    "ada = SklearnHelper(clf=AdaBoostClassifier, seed=SEED, params=ada_params)\n",
    "gb = SklearnHelper(clf=GradientBoostingClassifier, seed=SEED, params=gb_params)\n",
    "svc = SklearnHelper(clf=svm.SVC, seed=SEED, params=svc_params)"
   ]
  },
  {
   "cell_type": "code",
   "execution_count": 106,
   "metadata": {
    "collapsed": true
   },
   "outputs": [],
   "source": [
    "# Create Numpy arrays of train, test and target dataframes to feed into our models\n",
    "y_train = y\n",
    "train = X\n",
    "foo = test.loc[:,cols]\n",
    "x_train = train.values \n",
    "x_test = foo.values"
   ]
  },
  {
   "cell_type": "code",
   "execution_count": 107,
   "metadata": {},
   "outputs": [
    {
     "name": "stdout",
     "output_type": "stream",
     "text": [
      "Training is complete\n"
     ]
    }
   ],
   "source": [
    "# Create our OOF train and test predictions. These base results will be used as new features\n",
    "et_oof_train, et_oof_test = get_oof(et, x_train, y_train, x_test) # Extra Trees\n",
    "rf_oof_train, rf_oof_test = get_oof(rf,x_train, y_train, x_test) # Random Forest\n",
    "ada_oof_train, ada_oof_test = get_oof(ada, x_train, y_train, x_test) # AdaBoost \n",
    "gb_oof_train, gb_oof_test = get_oof(gb,x_train, y_train, x_test) # Gradient Boost\n",
    "svc_oof_train, svc_oof_test = get_oof(svc,x_train, y_train, x_test) # Support Vector Classifier\n",
    "\n",
    "print(\"Training is complete\")"
   ]
  },
  {
   "cell_type": "code",
   "execution_count": 108,
   "metadata": {},
   "outputs": [
    {
     "data": {
      "text/html": [
       "<div>\n",
       "<style scoped>\n",
       "    .dataframe tbody tr th:only-of-type {\n",
       "        vertical-align: middle;\n",
       "    }\n",
       "\n",
       "    .dataframe tbody tr th {\n",
       "        vertical-align: top;\n",
       "    }\n",
       "\n",
       "    .dataframe thead th {\n",
       "        text-align: right;\n",
       "    }\n",
       "</style>\n",
       "<table border=\"1\" class=\"dataframe\">\n",
       "  <thead>\n",
       "    <tr style=\"text-align: right;\">\n",
       "      <th></th>\n",
       "      <th>AdaBoost</th>\n",
       "      <th>ExtraTrees</th>\n",
       "      <th>GradientBoost</th>\n",
       "      <th>RandomForest</th>\n",
       "      <th>SVM</th>\n",
       "    </tr>\n",
       "  </thead>\n",
       "  <tbody>\n",
       "    <tr>\n",
       "      <th>0</th>\n",
       "      <td>1.0</td>\n",
       "      <td>1.0</td>\n",
       "      <td>1.0</td>\n",
       "      <td>0.0</td>\n",
       "      <td>1.0</td>\n",
       "    </tr>\n",
       "    <tr>\n",
       "      <th>1</th>\n",
       "      <td>0.0</td>\n",
       "      <td>0.0</td>\n",
       "      <td>0.0</td>\n",
       "      <td>0.0</td>\n",
       "      <td>0.0</td>\n",
       "    </tr>\n",
       "    <tr>\n",
       "      <th>2</th>\n",
       "      <td>0.0</td>\n",
       "      <td>0.0</td>\n",
       "      <td>0.0</td>\n",
       "      <td>0.0</td>\n",
       "      <td>0.0</td>\n",
       "    </tr>\n",
       "    <tr>\n",
       "      <th>3</th>\n",
       "      <td>0.0</td>\n",
       "      <td>0.0</td>\n",
       "      <td>0.0</td>\n",
       "      <td>0.0</td>\n",
       "      <td>0.0</td>\n",
       "    </tr>\n",
       "    <tr>\n",
       "      <th>4</th>\n",
       "      <td>0.0</td>\n",
       "      <td>0.0</td>\n",
       "      <td>0.0</td>\n",
       "      <td>0.0</td>\n",
       "      <td>0.0</td>\n",
       "    </tr>\n",
       "  </tbody>\n",
       "</table>\n",
       "</div>"
      ],
      "text/plain": [
       "   AdaBoost  ExtraTrees  GradientBoost  RandomForest  SVM\n",
       "0       1.0         1.0            1.0           0.0  1.0\n",
       "1       0.0         0.0            0.0           0.0  0.0\n",
       "2       0.0         0.0            0.0           0.0  0.0\n",
       "3       0.0         0.0            0.0           0.0  0.0\n",
       "4       0.0         0.0            0.0           0.0  0.0"
      ]
     },
     "execution_count": 108,
     "metadata": {},
     "output_type": "execute_result"
    }
   ],
   "source": [
    "base_predictions_train = pd.DataFrame( {'RandomForest': rf_oof_train.ravel(),\n",
    "     'ExtraTrees': et_oof_train.ravel(),\n",
    "     'AdaBoost': ada_oof_train.ravel(),\n",
    "      'SVM' : svc_oof_train.ravel(),\n",
    "      'GradientBoost': gb_oof_train.ravel()\n",
    "    })\n",
    "base_predictions_train.head()"
   ]
  },
  {
   "cell_type": "code",
   "execution_count": 109,
   "metadata": {},
   "outputs": [
    {
     "data": {
      "text/html": [
       "<div>\n",
       "<style scoped>\n",
       "    .dataframe tbody tr th:only-of-type {\n",
       "        vertical-align: middle;\n",
       "    }\n",
       "\n",
       "    .dataframe tbody tr th {\n",
       "        vertical-align: top;\n",
       "    }\n",
       "\n",
       "    .dataframe thead th {\n",
       "        text-align: right;\n",
       "    }\n",
       "</style>\n",
       "<table border=\"1\" class=\"dataframe\">\n",
       "  <thead>\n",
       "    <tr style=\"text-align: right;\">\n",
       "      <th></th>\n",
       "      <th>AdaBoost</th>\n",
       "      <th>ExtraTrees</th>\n",
       "      <th>GradientBoost</th>\n",
       "      <th>RandomForest</th>\n",
       "      <th>SVM</th>\n",
       "    </tr>\n",
       "  </thead>\n",
       "  <tbody>\n",
       "    <tr>\n",
       "      <th>count</th>\n",
       "      <td>712.000000</td>\n",
       "      <td>712.000000</td>\n",
       "      <td>712.000000</td>\n",
       "      <td>712.000000</td>\n",
       "      <td>712.000000</td>\n",
       "    </tr>\n",
       "    <tr>\n",
       "      <th>mean</th>\n",
       "      <td>0.327247</td>\n",
       "      <td>0.321629</td>\n",
       "      <td>0.316011</td>\n",
       "      <td>0.306180</td>\n",
       "      <td>0.346910</td>\n",
       "    </tr>\n",
       "    <tr>\n",
       "      <th>std</th>\n",
       "      <td>0.469538</td>\n",
       "      <td>0.467430</td>\n",
       "      <td>0.465244</td>\n",
       "      <td>0.461229</td>\n",
       "      <td>0.476321</td>\n",
       "    </tr>\n",
       "    <tr>\n",
       "      <th>min</th>\n",
       "      <td>0.000000</td>\n",
       "      <td>0.000000</td>\n",
       "      <td>0.000000</td>\n",
       "      <td>0.000000</td>\n",
       "      <td>0.000000</td>\n",
       "    </tr>\n",
       "    <tr>\n",
       "      <th>25%</th>\n",
       "      <td>0.000000</td>\n",
       "      <td>0.000000</td>\n",
       "      <td>0.000000</td>\n",
       "      <td>0.000000</td>\n",
       "      <td>0.000000</td>\n",
       "    </tr>\n",
       "    <tr>\n",
       "      <th>50%</th>\n",
       "      <td>0.000000</td>\n",
       "      <td>0.000000</td>\n",
       "      <td>0.000000</td>\n",
       "      <td>0.000000</td>\n",
       "      <td>0.000000</td>\n",
       "    </tr>\n",
       "    <tr>\n",
       "      <th>75%</th>\n",
       "      <td>1.000000</td>\n",
       "      <td>1.000000</td>\n",
       "      <td>1.000000</td>\n",
       "      <td>1.000000</td>\n",
       "      <td>1.000000</td>\n",
       "    </tr>\n",
       "    <tr>\n",
       "      <th>max</th>\n",
       "      <td>1.000000</td>\n",
       "      <td>1.000000</td>\n",
       "      <td>1.000000</td>\n",
       "      <td>1.000000</td>\n",
       "      <td>1.000000</td>\n",
       "    </tr>\n",
       "  </tbody>\n",
       "</table>\n",
       "</div>"
      ],
      "text/plain": [
       "         AdaBoost  ExtraTrees  GradientBoost  RandomForest         SVM\n",
       "count  712.000000  712.000000     712.000000    712.000000  712.000000\n",
       "mean     0.327247    0.321629       0.316011      0.306180    0.346910\n",
       "std      0.469538    0.467430       0.465244      0.461229    0.476321\n",
       "min      0.000000    0.000000       0.000000      0.000000    0.000000\n",
       "25%      0.000000    0.000000       0.000000      0.000000    0.000000\n",
       "50%      0.000000    0.000000       0.000000      0.000000    0.000000\n",
       "75%      1.000000    1.000000       1.000000      1.000000    1.000000\n",
       "max      1.000000    1.000000       1.000000      1.000000    1.000000"
      ]
     },
     "execution_count": 109,
     "metadata": {},
     "output_type": "execute_result"
    }
   ],
   "source": [
    "base_predictions_train.describe()"
   ]
  },
  {
   "cell_type": "code",
   "execution_count": 110,
   "metadata": {},
   "outputs": [
    {
     "data": {
      "text/plain": [
       "<matplotlib.axes._subplots.AxesSubplot at 0xb4021bce10>"
      ]
     },
     "execution_count": 110,
     "metadata": {},
     "output_type": "execute_result"
    },
    {
     "data": {
      "image/png": "[encoded data removed]",
      "text/plain": [
       "<matplotlib.figure.Figure at 0xb4020f4a58>"
      ]
     },
     "metadata": {},
     "output_type": "display_data"
    }
   ],
   "source": [
    "sns.regplot(x='ExtraTrees', y='GradientBoost' ,data=base_predictions_train)"
   ]
  },
  {
   "cell_type": "code",
   "execution_count": 111,
   "metadata": {},
   "outputs": [
    {
     "data": {
      "image/png": "[encoded data removed]",
      "text/plain": [
       "<matplotlib.figure.Figure at 0xb4021bca90>"
      ]
     },
     "metadata": {},
     "output_type": "display_data"
    }
   ],
   "source": [
    "plt.figure(figsize=(12,10))\n",
    "foo = sns.heatmap(base_predictions_train.corr(), vmax=1.0, square=True, annot=True)"
   ]
  },
  {
   "cell_type": "code",
   "execution_count": 112,
   "metadata": {
    "collapsed": true
   },
   "outputs": [],
   "source": [
    "x_train = np.concatenate(( et_oof_train, rf_oof_train, ada_oof_train, gb_oof_train, svc_oof_train), axis=1)\n",
    "x_test = np.concatenate(( et_oof_test, rf_oof_test, ada_oof_test, gb_oof_test, svc_oof_test), axis=1)"
   ]
  },
  {
   "cell_type": "code",
   "execution_count": 113,
   "metadata": {},
   "outputs": [
    {
     "data": {
      "text/plain": [
       "array([[ 1.,  0.,  1.,  1.,  1.],\n",
       "       [ 0.,  0.,  0.,  0.,  0.],\n",
       "       [ 0.,  0.,  0.,  0.,  0.],\n",
       "       ..., \n",
       "       [ 0.,  0.,  0.,  0.,  0.],\n",
       "       [ 0.,  0.,  1.,  0.,  1.],\n",
       "       [ 0.,  0.,  0.,  0.,  0.]])"
      ]
     },
     "execution_count": 113,
     "metadata": {},
     "output_type": "execute_result"
    }
   ],
   "source": [
    "x_train"
   ]
  },
  {
   "cell_type": "markdown",
   "metadata": {
    "collapsed": true
   },
   "source": [
    "clf_stack = xgb.XGBClassifier(\n",
    "    #learning_rate = 0.02,\n",
    " n_estimators= 2000,\n",
    " max_depth= 4,\n",
    " min_child_weight= 2,\n",
    " #gamma=1,\n",
    " gamma=0.9,                        \n",
    " subsample=0.8,\n",
    " colsample_bytree=0.8,\n",
    " objective= 'binary:logistic',\n",
    " scale_pos_weight=1)\n",
    "clf_stack = clf_stack.fit(x_train, y_train)\n",
    "stack_pred = clf_stack.predict(x_test)"
   ]
  },
  {
   "cell_type": "markdown",
   "metadata": {},
   "source": [
    "scores = cross_val_score(clf_stack, x_train, y_train, cv=5)\n",
    "print(scores)\n",
    "print(\"Mean score = %.3f, Std deviation = %.3f\"%(np.mean(scores),np.std(scores)))"
   ]
  },
  {
   "cell_type": "code",
   "execution_count": null,
   "metadata": {
    "collapsed": true
   },
   "outputs": [],
   "source": []
  }
 ],
 "metadata": {
  "kernelspec": {
   "display_name": "Python 3",
   "language": "python",
   "name": "python3"
  },
  "language_info": {
   "codemirror_mode": {
    "name": "ipython",
    "version": 3
   },
   "file_extension": ".py",
   "mimetype": "text/x-python",
   "name": "python",
   "nbconvert_exporter": "python",
   "pygments_lexer": "ipython3",
   "version": "3.6.2"
  }
 },
 "nbformat": 4,
 "nbformat_minor": 2
}
